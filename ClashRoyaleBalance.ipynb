{
  "nbformat": 4,
  "nbformat_minor": 0,
  "metadata": {
    "colab": {
      "provenance": [],
      "collapsed_sections": [
        "t2JUaefCyzou",
        "Bc0yjtuz0q2n",
        "hGeCCzYOVTEh",
        "tI7gZEs4VhDx",
        "WVQB8EFKVraD",
        "gYbBgAH-Lbv2",
        "QQIUJMigTIQp",
        "UfGp2HqNXMvC",
        "s11aTmXklxip",
        "EuDPFCB5u1ha",
        "k2eeLcuBxhCy",
        "nHrI9P0Q4kOS",
        "knPMie046Dmb",
        "fdkHwAJ76Hvb",
        "-NTSTbcU0_dc",
        "BRaixOtU1LtD",
        "DQORGQcs1lF7",
        "jVXpSEAUZtV1",
        "3GLjSAdU3xXr",
        "eAbzS5NsY8qT"
      ]
    },
    "kernelspec": {
      "name": "python3",
      "display_name": "Python 3"
    }
  },
  "cells": [
    {
      "cell_type": "markdown",
      "metadata": {
        "id": "t2JUaefCyzou"
      },
      "source": [
        "### Clash Royale card balance analysis\n",
        "\n",
        "This notebook provides a basic game balance analysis tutorial using a Kaggle dataset of Clash Royale card stats. Click \"copy to drive\" to edit and run the code.\n",
        "\n",
        "**Learning goals:** Using the Pandas package to load and manipulate datasets. Using basic linear regression from Scikit Learn for game balance analysis and design.\n",
        "\n",
        "**Before starting:** Make sure you've played Clash Royale to at least the second arena and understand the basic game mechanics. Also watch Stefan Engblom's [GDC talk](https://www.youtube.com/watch?v=bHLQQh8Ctu4) on balancing Clash Royale.\n",
        "\n",
        "**How to use this notebook:** Progress cell-by-cell, reading the text and running the code. Click on the small triangles to expand the sections. Some cells give you exercises. Think of those as a puzzle game: Try to solve the exercises without showing the hints and solutions, which are hidden by default. Add a new code cell below each exercise for your attempt. You may copy-paste code from earlier cells to get started.\n",
        "\n",
        "This notebook is part of Aalto University's Game Analysis course, inspired by the GDC talk above and this [Hearthstone data science tutorial](https://www.kaggle.com/ismailgungor/data-science-tutorial-with-hearthstone-cards)"
      ]
    },
    {
      "cell_type": "markdown",
      "metadata": {
        "id": "KMNwOdlXzR9u"
      },
      "source": [
        "First, the standard imports (Numpy and PyPlot) plus Pandas for dataset utilities."
      ]
    },
    {
      "cell_type": "code",
      "metadata": {
        "id": "cX-b1_bKxYNc"
      },
      "source": [
        "import numpy as np\n",
        "import matplotlib.pyplot as plt\n",
        "import pandas as pd  #.csv file utils etc."
      ],
      "execution_count": 1,
      "outputs": []
    },
    {
      "cell_type": "markdown",
      "metadata": {
        "id": "OZq6KodlyOr2"
      },
      "source": [
        "Fetch the dataset from the course's Github, if not already fetched (avoid duplicates if this code is run multiple times). Note that we use the \"!\" prefix to use the Linux wget command line utility."
      ]
    },
    {
      "cell_type": "code",
      "metadata": {
        "id": "cvSEavaTxdAS",
        "colab": {
          "base_uri": "https://localhost:8080/"
        },
        "outputId": "a706c64b-6252-4e2d-d323-9daf5c9ec17f"
      },
      "source": [
        "#import file path utilities\n",
        "from os import path\n",
        "#check if the dataset already exists\n",
        "if not path.exists(\"dataset.csv\"):\n",
        "  #fetch the dataset from the url.\n",
        "  !wget -O dataset.csv https://raw.githubusercontent.com/PerttuHamalainen/GameAnalysis/master/datasets/clash_wiki_dataset.csv\n",
        ""
      ],
      "execution_count": 2,
      "outputs": [
        {
          "output_type": "stream",
          "name": "stdout",
          "text": [
            "--2023-10-29 13:43:40--  https://raw.githubusercontent.com/PerttuHamalainen/GameAnalysis/master/datasets/clash_wiki_dataset.csv\n",
            "Resolving raw.githubusercontent.com (raw.githubusercontent.com)... 185.199.108.133, 185.199.109.133, 185.199.110.133, ...\n",
            "Connecting to raw.githubusercontent.com (raw.githubusercontent.com)|185.199.108.133|:443... connected.\n",
            "HTTP request sent, awaiting response... 200 OK\n",
            "Length: 4925 (4.8K) [text/plain]\n",
            "Saving to: ‘dataset.csv’\n",
            "\n",
            "\rdataset.csv           0%[                    ]       0  --.-KB/s               \rdataset.csv         100%[===================>]   4.81K  --.-KB/s    in 0s      \n",
            "\n",
            "2023-10-29 13:43:40 (42.6 MB/s) - ‘dataset.csv’ saved [4925/4925]\n",
            "\n"
          ]
        }
      ]
    },
    {
      "cell_type": "markdown",
      "metadata": {
        "id": "gcB5j1LcykIP"
      },
      "source": [
        "Create a Pandas DataFrame object from the dataset and show the first few rows using the DataFrame's head() utility.\n",
        "\n",
        "Note that you can also **interactively browse the dataset**, change the sorting order etc. by clicking on the folder icon on the left to open the Colab file browser, and then double-clicking on \"dataset.csv\". The \".csv\" format is a common human-readable and portable way to store various tabular data."
      ]
    },
    {
      "cell_type": "code",
      "metadata": {
        "colab": {
          "base_uri": "https://localhost:8080/",
          "height": 339
        },
        "id": "RGe3GO2uyVsX",
        "outputId": "37f12c56-a0ec-49f1-c360-c7b0b61a562e"
      },
      "source": [
        "data = pd.read_csv(\"dataset.csv\",encoding='iso-8859-1')\n",
        "data.head()"
      ],
      "execution_count": 3,
      "outputs": [
        {
          "output_type": "execute_result",
          "data": {
            "text/plain": [
              "          Card Card Level (Spawn Level)  Cost Count  Crown Tower Damage  \\\n",
              "0      Archers                      NaN   3.0     2                 NaN   \n",
              "1  Baby Dragon                      NaN   4.0     1                 NaN   \n",
              "2      Balloon                      NaN   5.0     1                 NaN   \n",
              "3       Bandit                      NaN   3.0     1                 NaN   \n",
              "4   Barbarians                      NaN   5.0     4                 NaN   \n",
              "\n",
              "  Damage Damage per second  Death Damage Health (+Shield) Hit Speed  ...  \\\n",
              "0     86                71           0.0              254       1.2  ...   \n",
              "1    133                83           0.0            1,064       1.6  ...   \n",
              "2    798               266         272.0            1,396         3  ...   \n",
              "3    160               160           0.0              780         1  ...   \n",
              "4    159               106           0.0              636       1.5  ...   \n",
              "\n",
              "   Maximum Spawned  Radius  Range Spawn DPS  Spawn Damage  Spawn Health  \\\n",
              "0              NaN     NaN      5       NaN           NaN           NaN   \n",
              "1              NaN     NaN    3.5       NaN           NaN           NaN   \n",
              "2              NaN     NaN      0       NaN           NaN           NaN   \n",
              "3              NaN     NaN      0       NaN           NaN           NaN   \n",
              "4              NaN     NaN      0       NaN           NaN           NaN   \n",
              "\n",
              "   Spawn Speed  Spawner Health Troop Spawned                 Type  \n",
              "0          NaN             NaN           NaN  Troops and Defenses  \n",
              "1          NaN             NaN           NaN  Troops and Defenses  \n",
              "2          NaN             NaN           NaN  Troops and Defenses  \n",
              "3          NaN             NaN           NaN  Troops and Defenses  \n",
              "4          NaN             NaN           NaN  Troops and Defenses  \n",
              "\n",
              "[5 rows x 21 columns]"
            ],
            "text/html": [
              "\n",
              "  <div id=\"df-65e65108-45b3-423a-80a8-fa713e9a473f\" class=\"colab-df-container\">\n",
              "    <div>\n",
              "<style scoped>\n",
              "    .dataframe tbody tr th:only-of-type {\n",
              "        vertical-align: middle;\n",
              "    }\n",
              "\n",
              "    .dataframe tbody tr th {\n",
              "        vertical-align: top;\n",
              "    }\n",
              "\n",
              "    .dataframe thead th {\n",
              "        text-align: right;\n",
              "    }\n",
              "</style>\n",
              "<table border=\"1\" class=\"dataframe\">\n",
              "  <thead>\n",
              "    <tr style=\"text-align: right;\">\n",
              "      <th></th>\n",
              "      <th>Card</th>\n",
              "      <th>Card Level (Spawn Level)</th>\n",
              "      <th>Cost</th>\n",
              "      <th>Count</th>\n",
              "      <th>Crown Tower Damage</th>\n",
              "      <th>Damage</th>\n",
              "      <th>Damage per second</th>\n",
              "      <th>Death Damage</th>\n",
              "      <th>Health (+Shield)</th>\n",
              "      <th>Hit Speed</th>\n",
              "      <th>...</th>\n",
              "      <th>Maximum Spawned</th>\n",
              "      <th>Radius</th>\n",
              "      <th>Range</th>\n",
              "      <th>Spawn DPS</th>\n",
              "      <th>Spawn Damage</th>\n",
              "      <th>Spawn Health</th>\n",
              "      <th>Spawn Speed</th>\n",
              "      <th>Spawner Health</th>\n",
              "      <th>Troop Spawned</th>\n",
              "      <th>Type</th>\n",
              "    </tr>\n",
              "  </thead>\n",
              "  <tbody>\n",
              "    <tr>\n",
              "      <th>0</th>\n",
              "      <td>Archers</td>\n",
              "      <td>NaN</td>\n",
              "      <td>3.0</td>\n",
              "      <td>2</td>\n",
              "      <td>NaN</td>\n",
              "      <td>86</td>\n",
              "      <td>71</td>\n",
              "      <td>0.0</td>\n",
              "      <td>254</td>\n",
              "      <td>1.2</td>\n",
              "      <td>...</td>\n",
              "      <td>NaN</td>\n",
              "      <td>NaN</td>\n",
              "      <td>5</td>\n",
              "      <td>NaN</td>\n",
              "      <td>NaN</td>\n",
              "      <td>NaN</td>\n",
              "      <td>NaN</td>\n",
              "      <td>NaN</td>\n",
              "      <td>NaN</td>\n",
              "      <td>Troops and Defenses</td>\n",
              "    </tr>\n",
              "    <tr>\n",
              "      <th>1</th>\n",
              "      <td>Baby Dragon</td>\n",
              "      <td>NaN</td>\n",
              "      <td>4.0</td>\n",
              "      <td>1</td>\n",
              "      <td>NaN</td>\n",
              "      <td>133</td>\n",
              "      <td>83</td>\n",
              "      <td>0.0</td>\n",
              "      <td>1,064</td>\n",
              "      <td>1.6</td>\n",
              "      <td>...</td>\n",
              "      <td>NaN</td>\n",
              "      <td>NaN</td>\n",
              "      <td>3.5</td>\n",
              "      <td>NaN</td>\n",
              "      <td>NaN</td>\n",
              "      <td>NaN</td>\n",
              "      <td>NaN</td>\n",
              "      <td>NaN</td>\n",
              "      <td>NaN</td>\n",
              "      <td>Troops and Defenses</td>\n",
              "    </tr>\n",
              "    <tr>\n",
              "      <th>2</th>\n",
              "      <td>Balloon</td>\n",
              "      <td>NaN</td>\n",
              "      <td>5.0</td>\n",
              "      <td>1</td>\n",
              "      <td>NaN</td>\n",
              "      <td>798</td>\n",
              "      <td>266</td>\n",
              "      <td>272.0</td>\n",
              "      <td>1,396</td>\n",
              "      <td>3</td>\n",
              "      <td>...</td>\n",
              "      <td>NaN</td>\n",
              "      <td>NaN</td>\n",
              "      <td>0</td>\n",
              "      <td>NaN</td>\n",
              "      <td>NaN</td>\n",
              "      <td>NaN</td>\n",
              "      <td>NaN</td>\n",
              "      <td>NaN</td>\n",
              "      <td>NaN</td>\n",
              "      <td>Troops and Defenses</td>\n",
              "    </tr>\n",
              "    <tr>\n",
              "      <th>3</th>\n",
              "      <td>Bandit</td>\n",
              "      <td>NaN</td>\n",
              "      <td>3.0</td>\n",
              "      <td>1</td>\n",
              "      <td>NaN</td>\n",
              "      <td>160</td>\n",
              "      <td>160</td>\n",
              "      <td>0.0</td>\n",
              "      <td>780</td>\n",
              "      <td>1</td>\n",
              "      <td>...</td>\n",
              "      <td>NaN</td>\n",
              "      <td>NaN</td>\n",
              "      <td>0</td>\n",
              "      <td>NaN</td>\n",
              "      <td>NaN</td>\n",
              "      <td>NaN</td>\n",
              "      <td>NaN</td>\n",
              "      <td>NaN</td>\n",
              "      <td>NaN</td>\n",
              "      <td>Troops and Defenses</td>\n",
              "    </tr>\n",
              "    <tr>\n",
              "      <th>4</th>\n",
              "      <td>Barbarians</td>\n",
              "      <td>NaN</td>\n",
              "      <td>5.0</td>\n",
              "      <td>4</td>\n",
              "      <td>NaN</td>\n",
              "      <td>159</td>\n",
              "      <td>106</td>\n",
              "      <td>0.0</td>\n",
              "      <td>636</td>\n",
              "      <td>1.5</td>\n",
              "      <td>...</td>\n",
              "      <td>NaN</td>\n",
              "      <td>NaN</td>\n",
              "      <td>0</td>\n",
              "      <td>NaN</td>\n",
              "      <td>NaN</td>\n",
              "      <td>NaN</td>\n",
              "      <td>NaN</td>\n",
              "      <td>NaN</td>\n",
              "      <td>NaN</td>\n",
              "      <td>Troops and Defenses</td>\n",
              "    </tr>\n",
              "  </tbody>\n",
              "</table>\n",
              "<p>5 rows × 21 columns</p>\n",
              "</div>\n",
              "    <div class=\"colab-df-buttons\">\n",
              "\n",
              "  <div class=\"colab-df-container\">\n",
              "    <button class=\"colab-df-convert\" onclick=\"convertToInteractive('df-65e65108-45b3-423a-80a8-fa713e9a473f')\"\n",
              "            title=\"Convert this dataframe to an interactive table.\"\n",
              "            style=\"display:none;\">\n",
              "\n",
              "  <svg xmlns=\"http://www.w3.org/2000/svg\" height=\"24px\" viewBox=\"0 -960 960 960\">\n",
              "    <path d=\"M120-120v-720h720v720H120Zm60-500h600v-160H180v160Zm220 220h160v-160H400v160Zm0 220h160v-160H400v160ZM180-400h160v-160H180v160Zm440 0h160v-160H620v160ZM180-180h160v-160H180v160Zm440 0h160v-160H620v160Z\"/>\n",
              "  </svg>\n",
              "    </button>\n",
              "\n",
              "  <style>\n",
              "    .colab-df-container {\n",
              "      display:flex;\n",
              "      gap: 12px;\n",
              "    }\n",
              "\n",
              "    .colab-df-convert {\n",
              "      background-color: #E8F0FE;\n",
              "      border: none;\n",
              "      border-radius: 50%;\n",
              "      cursor: pointer;\n",
              "      display: none;\n",
              "      fill: #1967D2;\n",
              "      height: 32px;\n",
              "      padding: 0 0 0 0;\n",
              "      width: 32px;\n",
              "    }\n",
              "\n",
              "    .colab-df-convert:hover {\n",
              "      background-color: #E2EBFA;\n",
              "      box-shadow: 0px 1px 2px rgba(60, 64, 67, 0.3), 0px 1px 3px 1px rgba(60, 64, 67, 0.15);\n",
              "      fill: #174EA6;\n",
              "    }\n",
              "\n",
              "    .colab-df-buttons div {\n",
              "      margin-bottom: 4px;\n",
              "    }\n",
              "\n",
              "    [theme=dark] .colab-df-convert {\n",
              "      background-color: #3B4455;\n",
              "      fill: #D2E3FC;\n",
              "    }\n",
              "\n",
              "    [theme=dark] .colab-df-convert:hover {\n",
              "      background-color: #434B5C;\n",
              "      box-shadow: 0px 1px 3px 1px rgba(0, 0, 0, 0.15);\n",
              "      filter: drop-shadow(0px 1px 2px rgba(0, 0, 0, 0.3));\n",
              "      fill: #FFFFFF;\n",
              "    }\n",
              "  </style>\n",
              "\n",
              "    <script>\n",
              "      const buttonEl =\n",
              "        document.querySelector('#df-65e65108-45b3-423a-80a8-fa713e9a473f button.colab-df-convert');\n",
              "      buttonEl.style.display =\n",
              "        google.colab.kernel.accessAllowed ? 'block' : 'none';\n",
              "\n",
              "      async function convertToInteractive(key) {\n",
              "        const element = document.querySelector('#df-65e65108-45b3-423a-80a8-fa713e9a473f');\n",
              "        const dataTable =\n",
              "          await google.colab.kernel.invokeFunction('convertToInteractive',\n",
              "                                                    [key], {});\n",
              "        if (!dataTable) return;\n",
              "\n",
              "        const docLinkHtml = 'Like what you see? Visit the ' +\n",
              "          '<a target=\"_blank\" href=https://colab.research.google.com/notebooks/data_table.ipynb>data table notebook</a>'\n",
              "          + ' to learn more about interactive tables.';\n",
              "        element.innerHTML = '';\n",
              "        dataTable['output_type'] = 'display_data';\n",
              "        await google.colab.output.renderOutput(dataTable, element);\n",
              "        const docLink = document.createElement('div');\n",
              "        docLink.innerHTML = docLinkHtml;\n",
              "        element.appendChild(docLink);\n",
              "      }\n",
              "    </script>\n",
              "  </div>\n",
              "\n",
              "\n",
              "<div id=\"df-3537002e-a4c5-4c59-b4c8-35ffd6a9e5c3\">\n",
              "  <button class=\"colab-df-quickchart\" onclick=\"quickchart('df-3537002e-a4c5-4c59-b4c8-35ffd6a9e5c3')\"\n",
              "            title=\"Suggest charts.\"\n",
              "            style=\"display:none;\">\n",
              "\n",
              "<svg xmlns=\"http://www.w3.org/2000/svg\" height=\"24px\"viewBox=\"0 0 24 24\"\n",
              "     width=\"24px\">\n",
              "    <g>\n",
              "        <path d=\"M19 3H5c-1.1 0-2 .9-2 2v14c0 1.1.9 2 2 2h14c1.1 0 2-.9 2-2V5c0-1.1-.9-2-2-2zM9 17H7v-7h2v7zm4 0h-2V7h2v10zm4 0h-2v-4h2v4z\"/>\n",
              "    </g>\n",
              "</svg>\n",
              "  </button>\n",
              "\n",
              "<style>\n",
              "  .colab-df-quickchart {\n",
              "      --bg-color: #E8F0FE;\n",
              "      --fill-color: #1967D2;\n",
              "      --hover-bg-color: #E2EBFA;\n",
              "      --hover-fill-color: #174EA6;\n",
              "      --disabled-fill-color: #AAA;\n",
              "      --disabled-bg-color: #DDD;\n",
              "  }\n",
              "\n",
              "  [theme=dark] .colab-df-quickchart {\n",
              "      --bg-color: #3B4455;\n",
              "      --fill-color: #D2E3FC;\n",
              "      --hover-bg-color: #434B5C;\n",
              "      --hover-fill-color: #FFFFFF;\n",
              "      --disabled-bg-color: #3B4455;\n",
              "      --disabled-fill-color: #666;\n",
              "  }\n",
              "\n",
              "  .colab-df-quickchart {\n",
              "    background-color: var(--bg-color);\n",
              "    border: none;\n",
              "    border-radius: 50%;\n",
              "    cursor: pointer;\n",
              "    display: none;\n",
              "    fill: var(--fill-color);\n",
              "    height: 32px;\n",
              "    padding: 0;\n",
              "    width: 32px;\n",
              "  }\n",
              "\n",
              "  .colab-df-quickchart:hover {\n",
              "    background-color: var(--hover-bg-color);\n",
              "    box-shadow: 0 1px 2px rgba(60, 64, 67, 0.3), 0 1px 3px 1px rgba(60, 64, 67, 0.15);\n",
              "    fill: var(--button-hover-fill-color);\n",
              "  }\n",
              "\n",
              "  .colab-df-quickchart-complete:disabled,\n",
              "  .colab-df-quickchart-complete:disabled:hover {\n",
              "    background-color: var(--disabled-bg-color);\n",
              "    fill: var(--disabled-fill-color);\n",
              "    box-shadow: none;\n",
              "  }\n",
              "\n",
              "  .colab-df-spinner {\n",
              "    border: 2px solid var(--fill-color);\n",
              "    border-color: transparent;\n",
              "    border-bottom-color: var(--fill-color);\n",
              "    animation:\n",
              "      spin 1s steps(1) infinite;\n",
              "  }\n",
              "\n",
              "  @keyframes spin {\n",
              "    0% {\n",
              "      border-color: transparent;\n",
              "      border-bottom-color: var(--fill-color);\n",
              "      border-left-color: var(--fill-color);\n",
              "    }\n",
              "    20% {\n",
              "      border-color: transparent;\n",
              "      border-left-color: var(--fill-color);\n",
              "      border-top-color: var(--fill-color);\n",
              "    }\n",
              "    30% {\n",
              "      border-color: transparent;\n",
              "      border-left-color: var(--fill-color);\n",
              "      border-top-color: var(--fill-color);\n",
              "      border-right-color: var(--fill-color);\n",
              "    }\n",
              "    40% {\n",
              "      border-color: transparent;\n",
              "      border-right-color: var(--fill-color);\n",
              "      border-top-color: var(--fill-color);\n",
              "    }\n",
              "    60% {\n",
              "      border-color: transparent;\n",
              "      border-right-color: var(--fill-color);\n",
              "    }\n",
              "    80% {\n",
              "      border-color: transparent;\n",
              "      border-right-color: var(--fill-color);\n",
              "      border-bottom-color: var(--fill-color);\n",
              "    }\n",
              "    90% {\n",
              "      border-color: transparent;\n",
              "      border-bottom-color: var(--fill-color);\n",
              "    }\n",
              "  }\n",
              "</style>\n",
              "\n",
              "  <script>\n",
              "    async function quickchart(key) {\n",
              "      const quickchartButtonEl =\n",
              "        document.querySelector('#' + key + ' button');\n",
              "      quickchartButtonEl.disabled = true;  // To prevent multiple clicks.\n",
              "      quickchartButtonEl.classList.add('colab-df-spinner');\n",
              "      try {\n",
              "        const charts = await google.colab.kernel.invokeFunction(\n",
              "            'suggestCharts', [key], {});\n",
              "      } catch (error) {\n",
              "        console.error('Error during call to suggestCharts:', error);\n",
              "      }\n",
              "      quickchartButtonEl.classList.remove('colab-df-spinner');\n",
              "      quickchartButtonEl.classList.add('colab-df-quickchart-complete');\n",
              "    }\n",
              "    (() => {\n",
              "      let quickchartButtonEl =\n",
              "        document.querySelector('#df-3537002e-a4c5-4c59-b4c8-35ffd6a9e5c3 button');\n",
              "      quickchartButtonEl.style.display =\n",
              "        google.colab.kernel.accessAllowed ? 'block' : 'none';\n",
              "    })();\n",
              "  </script>\n",
              "</div>\n",
              "    </div>\n",
              "  </div>\n"
            ]
          },
          "metadata": {},
          "execution_count": 3
        }
      ]
    },
    {
      "cell_type": "markdown",
      "metadata": {
        "id": "53N71dgXEuQF"
      },
      "source": [
        "We see that the data is not super clean: There are many card types and for some cards, some values are NaN:s (which here signal that the value is not defined). There are also some other exceptions such as the damage per second, which is NaN for spells and numeric for other cards, except Inferno tower and Inferno dragon, where it is given as a range of values. To help dealing with this, we first define a helper function for getting a clean subset where rows containing non-numeric values are removed.\n",
        ""
      ]
    },
    {
      "cell_type": "code",
      "metadata": {
        "colab": {
          "base_uri": "https://localhost:8080/"
        },
        "id": "IEHv1TKgFbqs",
        "outputId": "9cd10bc6-d7d5-4e0e-eb2b-435a78903ee5"
      },
      "source": [
        "#Returns a new Pandas dataframe consisting of only the given columns.\n",
        "#Rows with non-numeric values are removed.\n",
        "#The columns argument can be a single column such as \"Cost\"\n",
        "#or a list such as [\"Cost\",\"Damage\"]\n",
        "#TODO: This code is ugly, figure out a more concise way.\n",
        "def getCleanSubset(data,columns):\n",
        "  subset=data[columns].copy()\n",
        "  #Also add the card names for easier visualization\n",
        "  subset[\"Card\"]=data[\"Card\"]\n",
        "  #remove rows with missing values\n",
        "  subset=subset.dropna(axis=\"index\")\n",
        "  #remove rows with something that cannot be expressed as a number\n",
        "  if not isinstance(columns,list):\n",
        "    #if the columns is not a list (i.e., it is a single column),\n",
        "    #wrap it into a list for the loop below\n",
        "    columns=[columns]\n",
        "  for column in columns:\n",
        "    #Remove rows that cannot be converted to a numeric value\n",
        "    subset=subset[pd.to_numeric(subset[column], errors='coerce').notnull()]\n",
        "    #Convert to numeric value\n",
        "    subset[column]=pd.to_numeric(subset[column], errors='coerce')\n",
        "  return subset\n",
        "\n",
        "#Test the function\n",
        "print(getCleanSubset(data,[\"Cost\",\"Damage per second\"]))"
      ],
      "execution_count": 4,
      "outputs": [
        {
          "output_type": "stream",
          "name": "stdout",
          "text": [
            "    Cost  Damage per second              Card\n",
            "0    3.0                 71           Archers\n",
            "1    4.0                 83       Baby Dragon\n",
            "2    5.0                266           Balloon\n",
            "3    3.0                160            Bandit\n",
            "4    5.0                106        Barbarians\n",
            "5    2.0                 67              Bats\n",
            "6    4.0                  0        Battle Ram\n",
            "7    5.0                110        Bomb Tower\n",
            "8    3.0                142            Bomber\n",
            "9    5.0                 95            Bowler\n",
            "10   3.0                158            Cannon\n",
            "11   5.0                169       Cannon Cart\n",
            "12   4.0                147       Dark Prince\n",
            "13   3.0                132       Dart Goblin\n",
            "14   4.0                111    Electro Wizard\n",
            "15   6.0                169  Elite Barbarians\n",
            "16   5.0                116       Executioner\n",
            "17   2.0                  0      Fire Spirits\n",
            "18   5.0                140             Giant\n",
            "19   6.0                114    Giant Skeleton\n",
            "21   2.0                 96           Goblins\n",
            "22   8.0                103             Golem\n",
            "24   3.0                 71            Guards\n",
            "25   4.0                176         Hog Rider\n",
            "26   2.0                 28         Ice Golem\n",
            "27   1.0                  0        Ice Spirit\n",
            "28   3.0                 40        Ice Wizard\n",
            "31   3.0                144            Knight\n",
            "32   7.0                 34        Lava Hound\n",
            "34   4.0                285        Lumberjack\n",
            "35   3.0                172       Mega Minion\n",
            "36   4.0                332   Mini P.E.K.K.A.\n",
            "37   3.0                133             Miner\n",
            "38   3.0                 84           Minions\n",
            "39   5.0                 84      Minion Horde\n",
            "40   4.0                 45            Mortar\n",
            "41   4.0                160         Musketeer\n",
            "42   4.0                173       Night Witch\n",
            "43   7.0                376        P.E.K.K.A.\n",
            "44   5.0                216            Prince\n",
            "45   3.0                 46          Princess\n",
            "46   6.0                 93       Royal Giant\n",
            "47   1.0                 67         Skeletons\n",
            "48   3.0                 67     Skeleton Army\n",
            "49   6.0                260            Sparky\n",
            "50   2.0                 38     Spear Goblins\n",
            "51   4.0                168             Tesla\n",
            "52   9.0                160  Three Musketeers\n",
            "53   4.0                140          Valkyrie\n",
            "54   5.0                 98             Witch\n",
            "55   5.0                163            Wizard\n",
            "56   6.0                104             X-Bow\n"
          ]
        }
      ]
    },
    {
      "cell_type": "markdown",
      "metadata": {
        "id": "Bc0yjtuz0q2n"
      },
      "source": [
        "### Analyzing cost and benefit of cards using scatter plots and correlation\n",
        "\n",
        "In Clash Royale, the player has a deck of 8 cards, and deploying each card costs elixir, which is only slowly replenished. The key to winning is investing elixir smartly, getting maximum benefits for each drop of elixir spent. Thus, cards with a high elixir cost are typically more powerful.\n",
        "\n",
        "The basic problem of balancing the card stats is to keep the cost/benefit ratios of the cards constant so that no card provides a clearly better or worse ratio. This is important for the meta game (i.e., how the players choose and optimize their card decks) to have variety, i.e., all cards to have approximately similar use rates. If there were clearly superior cards, every player would use them and the meta would become boring.\n",
        "\n",
        "To investigate this, let's plot some card stats with respect to the elixir cost and their correlation coefficients. A correlation of 1 would mean that the stat in question is directly proportional to cost. Correlation of 0 indicates no relation, and negative correlations indicate inverse proportionality."
      ]
    },
    {
      "cell_type": "code",
      "metadata": {
        "colab": {
          "base_uri": "https://localhost:8080/",
          "height": 467
        },
        "id": "VrCaot9j2YZ3",
        "outputId": "ee350850-2873-4fad-ebb9-06710de7c96d"
      },
      "source": [
        "subset=getCleanSubset(data,[\"Health (+Shield)\",\"Cost\"])\n",
        "subset.plot.scatter(x=\"Cost\",y=\"Health (+Shield)\")\n",
        "print(\"Correlation:\",subset[\"Cost\"].corr(subset[\"Health (+Shield)\"]))"
      ],
      "execution_count": 5,
      "outputs": [
        {
          "output_type": "stream",
          "name": "stdout",
          "text": [
            "Correlation: 0.542788417763317\n"
          ]
        },
        {
          "output_type": "display_data",
          "data": {
            "text/plain": [
              "<Figure size 640x480 with 1 Axes>"
            ],
            "image/png": "[encoded data removed]"
          },
          "metadata": {}
        }
      ]
    },
    {
      "cell_type": "markdown",
      "metadata": {
        "id": "hGeCCzYOVTEh"
      },
      "source": [
        "###Exercise: Do the same with some other variables such as cost vs. damage per second.\n",
        "\n",
        "---\n",
        "\n",
        "\n",
        "\n",
        "Add a new code cell below this text, copy-paste the code above to it, and edit it. Which values are highly correlated with the cost?\n",
        "\n",
        "Optional: Annotate the scatterplot with card names. See, for example, https://stackoverflow.com/questions/15910019/annotate-data-points-while-plotting-from-pandas-dataframe/15911372#15911372"
      ]
    },
    {
      "cell_type": "markdown",
      "metadata": {
        "id": "tI7gZEs4VhDx"
      },
      "source": [
        "####Solution (expand to show code)"
      ]
    },
    {
      "cell_type": "code",
      "metadata": {
        "colab": {
          "base_uri": "https://localhost:8080/",
          "height": 72
        },
        "id": "nX8Q0nAUDycs",
        "outputId": "f8409ad7-fb07-483b-c061-b698a1ea7e24"
      },
      "source": [
        "subset=getCleanSubset(data,[\"Damage per second\",\"Cost\"])\n",
        "subset.plot.scatter(x=\"Cost\",y=\"Damage per second\")\n",
        "print(\"Correlation:\",subset[\"Cost\"].corr(subset[\"Damage per second\"]))"
      ],
      "execution_count": 6,
      "outputs": [
        {
          "output_type": "stream",
          "name": "stdout",
          "text": [
            "Correlation: 0.3795885518967999\n"
          ]
        },
        {
          "output_type": "display_data",
          "data": {
            "text/plain": [
              "<Figure size 640x480 with 1 Axes>"
            ],
            "image/png": "[encoded data removed]"
          },
          "metadata": {}
        }
      ]
    },
    {
      "cell_type": "markdown",
      "metadata": {
        "id": "WVQB8EFKVraD"
      },
      "source": [
        "###Calculating benefit based on multiple values\n",
        "The code below shows how to perform math on Pandas dataframe columns and add the results as a new column. We call this column \"Benefit\" and calculate it as the sum of damage per second and health. This yields a tiny bit better correlation (to be improved in the exercise that follows)."
      ]
    },
    {
      "cell_type": "code",
      "metadata": {
        "colab": {
          "base_uri": "https://localhost:8080/",
          "height": 72
        },
        "id": "rStLqIX6V1rT",
        "outputId": "bfaab75f-4000-4dd4-bc01-7fe78b4b4d27"
      },
      "source": [
        "#Example of adding a new column that combines existing ones\n",
        "s=getCleanSubset(data,[\"Damage per second\",\"Health (+Shield)\",\"Cost\"])\n",
        "s[\"Benefit\"]=s[\"Damage per second\"]+s[\"Health (+Shield)\"]\n",
        "s.plot.scatter(x=\"Cost\",y=\"Benefit\")\n",
        "print(\"Correlation:\",s[\"Cost\"].corr(s[\"Benefit\"]))"
      ],
      "execution_count": 7,
      "outputs": [
        {
          "output_type": "stream",
          "name": "stdout",
          "text": [
            "Correlation: 0.5556838560806563\n"
          ]
        },
        {
          "output_type": "display_data",
          "data": {
            "text/plain": [
              "<Figure size 640x480 with 1 Axes>"
            ],
            "image/png": "[encoded data removed]"
          },
          "metadata": {}
        }
      ]
    },
    {
      "cell_type": "markdown",
      "metadata": {
        "id": "gYbBgAH-Lbv2"
      },
      "source": [
        "###Exercise: Improve the benefit calculation\n",
        "Improve the code above by figuring out how to combine at least three stats.\n",
        "\n",
        "How close to 1 can you get the correlation? If you can get a correlation of 1, you have reverse-engineered how Clash Royale designers balance the stats.\n"
      ]
    },
    {
      "cell_type": "markdown",
      "metadata": {
        "id": "QQIUJMigTIQp"
      },
      "source": [
        "####Hint: (expand this section to show)\n"
      ]
    },
    {
      "cell_type": "markdown",
      "metadata": {
        "id": "6FpvQFjnTl_g"
      },
      "source": [
        "Try using \"Damage per second\", \"Count\", and \"Health (+Shield)\". Note that you can use all basic math operations such as multiplication and addition. Consider that the total damage caused by a troop depends on both damage per second and the troop's lifespan, and the lifespan depends on health."
      ]
    },
    {
      "cell_type": "markdown",
      "metadata": {
        "id": "UfGp2HqNXMvC"
      },
      "source": [
        "####Solution: (expand this section to show)"
      ]
    },
    {
      "cell_type": "markdown",
      "metadata": {
        "id": "vv4Gi39YXd9K"
      },
      "source": [
        "In this example solution (which is not the only possible one), we multiply the DPS, count, and health together. This way, the benefit is calculated as the total damage the a troop (or a swarm of \"Count\" units) might deal to an opponent.\n",
        "\n",
        "Of course, this is still a simple approximation, omitting details like a swarm being weak against splash damage."
      ]
    },
    {
      "cell_type": "code",
      "metadata": {
        "colab": {
          "base_uri": "https://localhost:8080/",
          "height": 72
        },
        "id": "nCI08g3zEdz8",
        "outputId": "9eed1b4c-39ba-4a7c-9112-03fa026a4d92"
      },
      "source": [
        "s=getCleanSubset(data,[\"Damage per second\",\"Count\",\"Health (+Shield)\",\"Cost\"])\n",
        "s[\"Benefit\"]=s[\"Count\"]*s[\"Damage per second\"]*s[\"Health (+Shield)\"]\n",
        "s.plot.scatter(x=\"Cost\",y=\"Benefit\")\n",
        "print(\"Correlation:\",s[\"Cost\"].corr(s[\"Benefit\"]))"
      ],
      "execution_count": 8,
      "outputs": [
        {
          "output_type": "stream",
          "name": "stdout",
          "text": [
            "Correlation: 0.7285591563261166\n"
          ]
        },
        {
          "output_type": "display_data",
          "data": {
            "text/plain": [
              "<Figure size 640x480 with 1 Axes>"
            ],
            "image/png": "[encoded data removed]"
          },
          "metadata": {}
        }
      ]
    },
    {
      "cell_type": "markdown",
      "metadata": {
        "id": "s11aTmXklxip"
      },
      "source": [
        "###Linear models\n",
        "\n",
        "Above, we've only used scatterplots and correlation. These can indicate which parameters are good for predicting benefit linearly based on cost. However, these don't directly answer questions like **\"If I have a new card with these stats, what should its elixir cost be?\"** or \"What would be reasonable values for some stats if other stats are known?\".\n",
        "\n",
        "To answer such questions, one can try a linear model from the Scikit Learn package. The linear model is of form ```ax+b=y```. In our case, x is benefit and y is cost, and model estimates the a and b.\n",
        "\n",
        "Note: To allow modeling, we need to first convert the Pandas dataframe columns to Numpy arrays. You can ignore the details of how this is done in the convert() function, but if you'd like to learn about Numpy arrays and reshaping, see https://numpy.org/doc/stable/user/quickstart.html"
      ]
    },
    {
      "cell_type": "code",
      "metadata": {
        "colab": {
          "base_uri": "https://localhost:8080/",
          "height": 916
        },
        "id": "otRCNsWcnkqv",
        "outputId": "c3e69cac-ee40-4f62-bf50-b08eb0e0e84c"
      },
      "source": [
        "#Import the tool we need\n",
        "from sklearn.linear_model import LinearRegression\n",
        "#A converter function that accepts Pandas dataframes and\n",
        "#plain floating point or integer numbers and returns 2D Numpy arrays\n",
        "#which are expected by sklearn\n",
        "def convert(x):\n",
        "  if isinstance(x,pd.DataFrame) or isinstance(x,pd.Series):\n",
        "    return x.to_numpy().reshape([-1,1])\n",
        "  elif isinstance(x,float) or isinstance(x,int):\n",
        "    return np.array(x).reshape([-1,1])\n",
        "  else:\n",
        "    print(\"Can't convert this data type\")\n",
        "#Calculate benefit as above\n",
        "s=getCleanSubset(data,[\"Damage per second\",\"Count\",\"Health (+Shield)\",\"Cost\"])\n",
        "s[\"Benefit\"]=s[\"Count\"]*s[\"Damage per second\"]*s[\"Health (+Shield)\"]\n",
        "#Create a new model\n",
        "model=LinearRegression()\n",
        "#Fit the model to data so that it predicts cost from benefit.\n",
        "model.fit(convert(s[\"Benefit\"]),convert(s[\"Cost\"]))\n",
        "#Print the regression coefficients a,b\n",
        "print(\"a,b\",model.coef_,model.intercept_)\n",
        "#Now, we can predict the cost for some new benefit value.\n",
        "s[\"PredictedCost\"]=model.predict(convert(s[\"Benefit\"]))\n",
        "#Plot both actual and predicted costs\n",
        "s.plot.scatter(x=\"Cost\",y=\"Benefit\")\n",
        "s.plot.scatter(x=\"PredictedCost\",y=\"Benefit\")"
      ],
      "execution_count": 17,
      "outputs": [
        {
          "output_type": "stream",
          "name": "stdout",
          "text": [
            "a,b [[1.25512573e-05]] [2.37290664]\n"
          ]
        },
        {
          "output_type": "execute_result",
          "data": {
            "text/plain": [
              "<Axes: xlabel='PredictedCost', ylabel='Benefit'>"
            ]
          },
          "metadata": {},
          "execution_count": 17
        },
        {
          "output_type": "display_data",
          "data": {
            "text/plain": [
              "<Figure size 640x480 with 1 Axes>"
            ],
            "image/png": "[encoded data removed]"
          },
          "metadata": {}
        },
        {
          "output_type": "display_data",
          "data": {
            "text/plain": [
              "<Figure size 640x480 with 1 Axes>"
            ],
            "image/png": "[encoded data removed]"
          },
          "metadata": {}
        }
      ]
    },
    {
      "cell_type": "markdown",
      "source": [
        "To better compare two types of data, it's often good to plot them in the same figure. This can be done by first calling ```plt.figure()``` and then calling ```plt.scatter()``` for each dataset. This automatically results in a different color for each dataset. Finally, calling ```plt.legend()``` makes the data labels visible."
      ],
      "metadata": {
        "id": "EcUscjNqtAEJ"
      }
    },
    {
      "cell_type": "code",
      "source": [
        "# @title\n",
        "plt.figure()\n",
        "plt.scatter(s[\"PredictedCost\"],s[\"Benefit\"],label=\"Predicted cost\")\n",
        "plt.scatter(s[\"Cost\"],s[\"Benefit\"],label=\"Actual cost\")\n",
        "plt.xlabel(\"Cost\")\n",
        "plt.ylabel(\"Benefit\")\n",
        "plt.legend()"
      ],
      "metadata": {
        "colab": {
          "base_uri": "https://localhost:8080/",
          "height": 467
        },
        "cellView": "form",
        "collapsed": true,
        "id": "vODEJ2HZsTOj",
        "outputId": "4f882cd3-0863-4db1-f6dc-008279e9da9e"
      },
      "execution_count": 18,
      "outputs": [
        {
          "output_type": "execute_result",
          "data": {
            "text/plain": [
              "<matplotlib.legend.Legend at 0x7f3143ee34c0>"
            ]
          },
          "metadata": {},
          "execution_count": 18
        },
        {
          "output_type": "display_data",
          "data": {
            "text/plain": [
              "<Figure size 640x480 with 1 Axes>"
            ],
            "image/png": "[encoded data removed]"
          },
          "metadata": {}
        }
      ]
    },
    {
      "cell_type": "markdown",
      "metadata": {
        "id": "EuDPFCB5u1ha"
      },
      "source": [
        "###Exercise: use the model to calculate and print elixir cost for a hypothetical new card with some DPS, health, and count values.\n",
        "\n",
        "Note: after you've run the code above, the variables are also available in all the cells below it, so you can directly use ```model.predict(benefit)```. Also remember to use the convert() function.\n"
      ]
    },
    {
      "cell_type": "markdown",
      "metadata": {
        "id": "k2eeLcuBxhCy"
      },
      "source": [
        "####Solution (expand to show):"
      ]
    },
    {
      "cell_type": "code",
      "metadata": {
        "colab": {
          "base_uri": "https://localhost:8080/"
        },
        "id": "YrlGLHOOxf1R",
        "outputId": "88eefb72-911e-46c4-85ee-790b43fb822e"
      },
      "source": [
        "#Define the parameters\n",
        "dps=1000\n",
        "health=100\n",
        "count=2\n",
        "#Compute the benefit similar to above\n",
        "benefit=dps*health*count\n",
        "#Print the predicted cost\n",
        "print(\"Predicted elixir cost\",model.predict(convert(benefit)))"
      ],
      "execution_count": 10,
      "outputs": [
        {
          "output_type": "stream",
          "name": "stdout",
          "text": [
            "Predicted elixir cost [[4.8831581]]\n"
          ]
        }
      ]
    },
    {
      "cell_type": "markdown",
      "metadata": {
        "id": "nHrI9P0Q4kOS"
      },
      "source": [
        "###Exercise: find cards that violate the model. What do these tell about the model?\n",
        "\n",
        "Basically, the cards that violate the model should give you insights of which mechanics and dynamics (e.g., card vs. card interactions) your model is not capturing."
      ]
    },
    {
      "cell_type": "markdown",
      "metadata": {
        "id": "knPMie046Dmb"
      },
      "source": [
        "####Hint (expand to show)\n"
      ]
    },
    {
      "cell_type": "markdown",
      "metadata": {
        "id": "IkknNg3T6Nlr"
      },
      "source": [
        "For example, you can calculate the absolute value of the cost prediction error for each card as ```np.abs(s[\"PredictedCost\"]-s[\"Cost\"])```. Then, sort the dataframe based on this (google Pandas sort) and print the head (see the beginning of this notebook).\n",
        "\n",
        "Another way could be to calculate cost/benefit ratios and sort the cards based on it. Cards with very low or high ratio violate your model."
      ]
    },
    {
      "cell_type": "markdown",
      "metadata": {
        "id": "fdkHwAJ76Hvb"
      },
      "source": [
        "####Solution (expand to show)"
      ]
    },
    {
      "cell_type": "markdown",
      "metadata": {
        "id": "XZQJCVolbk2K"
      },
      "source": [
        "The code below shows that the 5 cards with highest cost prediction error are Three Musketters, Lumberjack, Witch, Battle Ram, and Skeletons. This is not very surprising: The model does not take into account special abilities like Lumberjack's rage and the Witch spawning skeletons. Three musketeers and skeletons are swarm troops which have some additional dynamics like being able to be split onto two attack lanes. Battle ram's benefit is zero, meaning that there's probably an error in the data.  "
      ]
    },
    {
      "cell_type": "code",
      "metadata": {
        "colab": {
          "base_uri": "https://localhost:8080/",
          "height": 278
        },
        "id": "87ic8hsI6Gkr",
        "outputId": "1892f150-479e-4550-ba99-b28b0e831b01"
      },
      "source": [
        "s[\"PredictionErrors\"]=s[\"PredictedCost\"]-s[\"Cost\"]\n",
        "s[\"AbsPredictionErrors\"]=np.abs(s[\"PredictionErrors\"])\n",
        "sorted=s.sort_values(by=\"AbsPredictionErrors\",ascending=False)\n",
        "sorted.head()"
      ],
      "execution_count": 11,
      "outputs": [
        {
          "output_type": "execute_result",
          "data": {
            "text/plain": [
              "    Damage per second  Count  Health (+Shield)  Cost              Card  \\\n",
              "52                160      3               598   9.0  Three Musketeers   \n",
              "34                285      1               990   4.0        Lumberjack   \n",
              "54                 98      1               696   5.0             Witch   \n",
              "6                   0      1               756   4.0        Battle Ram   \n",
              "47                 67      3                67   1.0         Skeletons   \n",
              "\n",
              "    Benefit  PredictedCost  PredictionErrors  AbsPredictionErrors  \n",
              "52   287040       5.975620         -3.024380             3.024380  \n",
              "34   282150       5.914244          1.914244             1.914244  \n",
              "54    68208       3.229003         -1.770997             1.770997  \n",
              "6         0       2.372907         -1.627093             1.627093  \n",
              "47    13467       2.541934          1.541934             1.541934  "
            ],
            "text/html": [
              "\n",
              "  <div id=\"df-b6441038-5675-4879-b496-cda2d498fdf7\" class=\"colab-df-container\">\n",
              "    <div>\n",
              "<style scoped>\n",
              "    .dataframe tbody tr th:only-of-type {\n",
              "        vertical-align: middle;\n",
              "    }\n",
              "\n",
              "    .dataframe tbody tr th {\n",
              "        vertical-align: top;\n",
              "    }\n",
              "\n",
              "    .dataframe thead th {\n",
              "        text-align: right;\n",
              "    }\n",
              "</style>\n",
              "<table border=\"1\" class=\"dataframe\">\n",
              "  <thead>\n",
              "    <tr style=\"text-align: right;\">\n",
              "      <th></th>\n",
              "      <th>Damage per second</th>\n",
              "      <th>Count</th>\n",
              "      <th>Health (+Shield)</th>\n",
              "      <th>Cost</th>\n",
              "      <th>Card</th>\n",
              "      <th>Benefit</th>\n",
              "      <th>PredictedCost</th>\n",
              "      <th>PredictionErrors</th>\n",
              "      <th>AbsPredictionErrors</th>\n",
              "    </tr>\n",
              "  </thead>\n",
              "  <tbody>\n",
              "    <tr>\n",
              "      <th>52</th>\n",
              "      <td>160</td>\n",
              "      <td>3</td>\n",
              "      <td>598</td>\n",
              "      <td>9.0</td>\n",
              "      <td>Three Musketeers</td>\n",
              "      <td>287040</td>\n",
              "      <td>5.975620</td>\n",
              "      <td>-3.024380</td>\n",
              "      <td>3.024380</td>\n",
              "    </tr>\n",
              "    <tr>\n",
              "      <th>34</th>\n",
              "      <td>285</td>\n",
              "      <td>1</td>\n",
              "      <td>990</td>\n",
              "      <td>4.0</td>\n",
              "      <td>Lumberjack</td>\n",
              "      <td>282150</td>\n",
              "      <td>5.914244</td>\n",
              "      <td>1.914244</td>\n",
              "      <td>1.914244</td>\n",
              "    </tr>\n",
              "    <tr>\n",
              "      <th>54</th>\n",
              "      <td>98</td>\n",
              "      <td>1</td>\n",
              "      <td>696</td>\n",
              "      <td>5.0</td>\n",
              "      <td>Witch</td>\n",
              "      <td>68208</td>\n",
              "      <td>3.229003</td>\n",
              "      <td>-1.770997</td>\n",
              "      <td>1.770997</td>\n",
              "    </tr>\n",
              "    <tr>\n",
              "      <th>6</th>\n",
              "      <td>0</td>\n",
              "      <td>1</td>\n",
              "      <td>756</td>\n",
              "      <td>4.0</td>\n",
              "      <td>Battle Ram</td>\n",
              "      <td>0</td>\n",
              "      <td>2.372907</td>\n",
              "      <td>-1.627093</td>\n",
              "      <td>1.627093</td>\n",
              "    </tr>\n",
              "    <tr>\n",
              "      <th>47</th>\n",
              "      <td>67</td>\n",
              "      <td>3</td>\n",
              "      <td>67</td>\n",
              "      <td>1.0</td>\n",
              "      <td>Skeletons</td>\n",
              "      <td>13467</td>\n",
              "      <td>2.541934</td>\n",
              "      <td>1.541934</td>\n",
              "      <td>1.541934</td>\n",
              "    </tr>\n",
              "  </tbody>\n",
              "</table>\n",
              "</div>\n",
              "    <div class=\"colab-df-buttons\">\n",
              "\n",
              "  <div class=\"colab-df-container\">\n",
              "    <button class=\"colab-df-convert\" onclick=\"convertToInteractive('df-b6441038-5675-4879-b496-cda2d498fdf7')\"\n",
              "            title=\"Convert this dataframe to an interactive table.\"\n",
              "            style=\"display:none;\">\n",
              "\n",
              "  <svg xmlns=\"http://www.w3.org/2000/svg\" height=\"24px\" viewBox=\"0 -960 960 960\">\n",
              "    <path d=\"M120-120v-720h720v720H120Zm60-500h600v-160H180v160Zm220 220h160v-160H400v160Zm0 220h160v-160H400v160ZM180-400h160v-160H180v160Zm440 0h160v-160H620v160ZM180-180h160v-160H180v160Zm440 0h160v-160H620v160Z\"/>\n",
              "  </svg>\n",
              "    </button>\n",
              "\n",
              "  <style>\n",
              "    .colab-df-container {\n",
              "      display:flex;\n",
              "      gap: 12px;\n",
              "    }\n",
              "\n",
              "    .colab-df-convert {\n",
              "      background-color: #E8F0FE;\n",
              "      border: none;\n",
              "      border-radius: 50%;\n",
              "      cursor: pointer;\n",
              "      display: none;\n",
              "      fill: #1967D2;\n",
              "      height: 32px;\n",
              "      padding: 0 0 0 0;\n",
              "      width: 32px;\n",
              "    }\n",
              "\n",
              "    .colab-df-convert:hover {\n",
              "      background-color: #E2EBFA;\n",
              "      box-shadow: 0px 1px 2px rgba(60, 64, 67, 0.3), 0px 1px 3px 1px rgba(60, 64, 67, 0.15);\n",
              "      fill: #174EA6;\n",
              "    }\n",
              "\n",
              "    .colab-df-buttons div {\n",
              "      margin-bottom: 4px;\n",
              "    }\n",
              "\n",
              "    [theme=dark] .colab-df-convert {\n",
              "      background-color: #3B4455;\n",
              "      fill: #D2E3FC;\n",
              "    }\n",
              "\n",
              "    [theme=dark] .colab-df-convert:hover {\n",
              "      background-color: #434B5C;\n",
              "      box-shadow: 0px 1px 3px 1px rgba(0, 0, 0, 0.15);\n",
              "      filter: drop-shadow(0px 1px 2px rgba(0, 0, 0, 0.3));\n",
              "      fill: #FFFFFF;\n",
              "    }\n",
              "  </style>\n",
              "\n",
              "    <script>\n",
              "      const buttonEl =\n",
              "        document.querySelector('#df-b6441038-5675-4879-b496-cda2d498fdf7 button.colab-df-convert');\n",
              "      buttonEl.style.display =\n",
              "        google.colab.kernel.accessAllowed ? 'block' : 'none';\n",
              "\n",
              "      async function convertToInteractive(key) {\n",
              "        const element = document.querySelector('#df-b6441038-5675-4879-b496-cda2d498fdf7');\n",
              "        const dataTable =\n",
              "          await google.colab.kernel.invokeFunction('convertToInteractive',\n",
              "                                                    [key], {});\n",
              "        if (!dataTable) return;\n",
              "\n",
              "        const docLinkHtml = 'Like what you see? Visit the ' +\n",
              "          '<a target=\"_blank\" href=https://colab.research.google.com/notebooks/data_table.ipynb>data table notebook</a>'\n",
              "          + ' to learn more about interactive tables.';\n",
              "        element.innerHTML = '';\n",
              "        dataTable['output_type'] = 'display_data';\n",
              "        await google.colab.output.renderOutput(dataTable, element);\n",
              "        const docLink = document.createElement('div');\n",
              "        docLink.innerHTML = docLinkHtml;\n",
              "        element.appendChild(docLink);\n",
              "      }\n",
              "    </script>\n",
              "  </div>\n",
              "\n",
              "\n",
              "<div id=\"df-227fed30-7e59-4010-ab8d-5370a8756b62\">\n",
              "  <button class=\"colab-df-quickchart\" onclick=\"quickchart('df-227fed30-7e59-4010-ab8d-5370a8756b62')\"\n",
              "            title=\"Suggest charts.\"\n",
              "            style=\"display:none;\">\n",
              "\n",
              "<svg xmlns=\"http://www.w3.org/2000/svg\" height=\"24px\"viewBox=\"0 0 24 24\"\n",
              "     width=\"24px\">\n",
              "    <g>\n",
              "        <path d=\"M19 3H5c-1.1 0-2 .9-2 2v14c0 1.1.9 2 2 2h14c1.1 0 2-.9 2-2V5c0-1.1-.9-2-2-2zM9 17H7v-7h2v7zm4 0h-2V7h2v10zm4 0h-2v-4h2v4z\"/>\n",
              "    </g>\n",
              "</svg>\n",
              "  </button>\n",
              "\n",
              "<style>\n",
              "  .colab-df-quickchart {\n",
              "      --bg-color: #E8F0FE;\n",
              "      --fill-color: #1967D2;\n",
              "      --hover-bg-color: #E2EBFA;\n",
              "      --hover-fill-color: #174EA6;\n",
              "      --disabled-fill-color: #AAA;\n",
              "      --disabled-bg-color: #DDD;\n",
              "  }\n",
              "\n",
              "  [theme=dark] .colab-df-quickchart {\n",
              "      --bg-color: #3B4455;\n",
              "      --fill-color: #D2E3FC;\n",
              "      --hover-bg-color: #434B5C;\n",
              "      --hover-fill-color: #FFFFFF;\n",
              "      --disabled-bg-color: #3B4455;\n",
              "      --disabled-fill-color: #666;\n",
              "  }\n",
              "\n",
              "  .colab-df-quickchart {\n",
              "    background-color: var(--bg-color);\n",
              "    border: none;\n",
              "    border-radius: 50%;\n",
              "    cursor: pointer;\n",
              "    display: none;\n",
              "    fill: var(--fill-color);\n",
              "    height: 32px;\n",
              "    padding: 0;\n",
              "    width: 32px;\n",
              "  }\n",
              "\n",
              "  .colab-df-quickchart:hover {\n",
              "    background-color: var(--hover-bg-color);\n",
              "    box-shadow: 0 1px 2px rgba(60, 64, 67, 0.3), 0 1px 3px 1px rgba(60, 64, 67, 0.15);\n",
              "    fill: var(--button-hover-fill-color);\n",
              "  }\n",
              "\n",
              "  .colab-df-quickchart-complete:disabled,\n",
              "  .colab-df-quickchart-complete:disabled:hover {\n",
              "    background-color: var(--disabled-bg-color);\n",
              "    fill: var(--disabled-fill-color);\n",
              "    box-shadow: none;\n",
              "  }\n",
              "\n",
              "  .colab-df-spinner {\n",
              "    border: 2px solid var(--fill-color);\n",
              "    border-color: transparent;\n",
              "    border-bottom-color: var(--fill-color);\n",
              "    animation:\n",
              "      spin 1s steps(1) infinite;\n",
              "  }\n",
              "\n",
              "  @keyframes spin {\n",
              "    0% {\n",
              "      border-color: transparent;\n",
              "      border-bottom-color: var(--fill-color);\n",
              "      border-left-color: var(--fill-color);\n",
              "    }\n",
              "    20% {\n",
              "      border-color: transparent;\n",
              "      border-left-color: var(--fill-color);\n",
              "      border-top-color: var(--fill-color);\n",
              "    }\n",
              "    30% {\n",
              "      border-color: transparent;\n",
              "      border-left-color: var(--fill-color);\n",
              "      border-top-color: var(--fill-color);\n",
              "      border-right-color: var(--fill-color);\n",
              "    }\n",
              "    40% {\n",
              "      border-color: transparent;\n",
              "      border-right-color: var(--fill-color);\n",
              "      border-top-color: var(--fill-color);\n",
              "    }\n",
              "    60% {\n",
              "      border-color: transparent;\n",
              "      border-right-color: var(--fill-color);\n",
              "    }\n",
              "    80% {\n",
              "      border-color: transparent;\n",
              "      border-right-color: var(--fill-color);\n",
              "      border-bottom-color: var(--fill-color);\n",
              "    }\n",
              "    90% {\n",
              "      border-color: transparent;\n",
              "      border-bottom-color: var(--fill-color);\n",
              "    }\n",
              "  }\n",
              "</style>\n",
              "\n",
              "  <script>\n",
              "    async function quickchart(key) {\n",
              "      const quickchartButtonEl =\n",
              "        document.querySelector('#' + key + ' button');\n",
              "      quickchartButtonEl.disabled = true;  // To prevent multiple clicks.\n",
              "      quickchartButtonEl.classList.add('colab-df-spinner');\n",
              "      try {\n",
              "        const charts = await google.colab.kernel.invokeFunction(\n",
              "            'suggestCharts', [key], {});\n",
              "      } catch (error) {\n",
              "        console.error('Error during call to suggestCharts:', error);\n",
              "      }\n",
              "      quickchartButtonEl.classList.remove('colab-df-spinner');\n",
              "      quickchartButtonEl.classList.add('colab-df-quickchart-complete');\n",
              "    }\n",
              "    (() => {\n",
              "      let quickchartButtonEl =\n",
              "        document.querySelector('#df-227fed30-7e59-4010-ab8d-5370a8756b62 button');\n",
              "      quickchartButtonEl.style.display =\n",
              "        google.colab.kernel.accessAllowed ? 'block' : 'none';\n",
              "    })();\n",
              "  </script>\n",
              "</div>\n",
              "    </div>\n",
              "  </div>\n"
            ]
          },
          "metadata": {},
          "execution_count": 11
        }
      ]
    },
    {
      "cell_type": "markdown",
      "metadata": {
        "id": "-NTSTbcU0_dc"
      },
      "source": [
        "###Exercise: Calculate health of a hypothetical new card based on some dps, count, and cost values"
      ]
    },
    {
      "cell_type": "markdown",
      "metadata": {
        "id": "BRaixOtU1LtD"
      },
      "source": [
        "####Hint (expand to show)"
      ]
    },
    {
      "cell_type": "markdown",
      "metadata": {
        "id": "QmDI4oZS1P37"
      },
      "source": [
        "The linear model gives us a and b for the equation ax+b=y. The y is the cost and x is the benefit. You can substitute the benefit formula used above into ax+b=y then solve any variable from others through basic algebraic manipulation."
      ]
    },
    {
      "cell_type": "markdown",
      "metadata": {
        "id": "DQORGQcs1lF7"
      },
      "source": [
        "####Solution (expand to show)"
      ]
    },
    {
      "cell_type": "code",
      "metadata": {
        "colab": {
          "base_uri": "https://localhost:8080/"
        },
        "id": "kLVOFBsI1l4j",
        "outputId": "3c5a47dd-8e88-4155-ac0f-4498481ce4a4"
      },
      "source": [
        "#Define the known parameters\n",
        "dps=1000\n",
        "count=2\n",
        "cost=4\n",
        "#Solve the following for health: dps*count*health*a+b=cost\n",
        "#=> health=(cost-b)/(dps*count*a)\n",
        "#The a and b are given by the model as above\n",
        "a=model.coef_\n",
        "b=model.intercept_\n",
        "#Print the predicted health\n",
        "health=(cost-b)/(dps*count*a)\n",
        "print(\"Predicted health\",health)"
      ],
      "execution_count": 12,
      "outputs": [
        {
          "output_type": "stream",
          "name": "stdout",
          "text": [
            "Predicted health [[64.81794302]]\n"
          ]
        }
      ]
    },
    {
      "cell_type": "markdown",
      "metadata": {
        "id": "DM0Vsi492uIj"
      },
      "source": [
        "Try different values! What happens to health, for example, if you increase dps or count?"
      ]
    },
    {
      "cell_type": "markdown",
      "source": [
        "###The advanced exercises below are one way of completing the final assignment for the course. Completing all exercises with good results gives you grade 5.###\n",
        "See [the final assignment instructions](https://github.com/PerttuHamalainen/GameAnalysis/blob/master/lectures/final_assignment_instructions.pdf) for more. Obviously, model solutions are not given for these exercises."
      ],
      "metadata": {
        "id": "vhoUG5c4xeMR"
      }
    },
    {
      "cell_type": "markdown",
      "metadata": {
        "id": "jVXpSEAUZtV1"
      },
      "source": [
        "###Advanced exercise 1:\n",
        "The dataset we use is old and does not include all the cards of the current Clash Royale version. Write Python code that scrapes the current stats from a website like https://clashroyale.fandom.com/wiki/Cards\n",
        "\n"
      ]
    },
    {
      "cell_type": "markdown",
      "metadata": {
        "id": "3GLjSAdU3xXr"
      },
      "source": [
        "###Advanced exercise 2:\n",
        "\n",
        "Implement a simulation of card vs. card battles. Use the simulation to analyze intransitive balance, i.e., \"rock paper scissors\" balance: Every card should win in some situations but also have one or multiple counters. Write a script that highlights which cards violate this rule. Such a script could be valuable for automatically testing that the balance is not broken."
      ]
    },
    {
      "cell_type": "markdown",
      "metadata": {
        "id": "eAbzS5NsY8qT"
      },
      "source": [
        "###Advanced exercise 3:\n",
        "Extend the benefit calculation to all card types. You may need to loop over all cards in a for loop and do the benefit calculation differently for each type. Also try to incorporate mechanics like death damage and ranged attacks.\n",
        "\n",
        "How close to 1 can you get the correlation?"
      ]
    }
  ]
}