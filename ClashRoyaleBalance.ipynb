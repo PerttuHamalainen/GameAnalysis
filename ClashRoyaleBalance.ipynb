{
  "nbformat": 4,
  "nbformat_minor": 0,
  "metadata": {
    "colab": {
      "provenance": [],
      "collapsed_sections": [
        "t2JUaefCyzou",
        "Bc0yjtuz0q2n",
        "hGeCCzYOVTEh",
        "tI7gZEs4VhDx",
        "WVQB8EFKVraD",
        "gYbBgAH-Lbv2",
        "QQIUJMigTIQp",
        "UfGp2HqNXMvC",
        "s11aTmXklxip",
        "EuDPFCB5u1ha",
        "k2eeLcuBxhCy",
        "nHrI9P0Q4kOS",
        "knPMie046Dmb",
        "fdkHwAJ76Hvb",
        "-NTSTbcU0_dc",
        "BRaixOtU1LtD",
        "DQORGQcs1lF7",
        "jVXpSEAUZtV1",
        "3GLjSAdU3xXr",
        "eAbzS5NsY8qT"
      ]
    },
    "kernelspec": {
      "name": "python3",
      "display_name": "Python 3"
    }
  },
  "cells": [
    {
      "cell_type": "markdown",
      "metadata": {
        "id": "t2JUaefCyzou"
      },
      "source": [
        "### Clash Royale card balance analysis\n",
        "\n",
        "This notebook provides a basic game balance analysis tutorial using a Kaggle dataset of Clash Royale card stats. Click \"copy to drive\" to edit and run the code.\n",
        "\n",
        "**Learning goals:** Using the Pandas package to load and manipulate datasets. Using basic linear regression from Scikit Learn for game balance analysis and design.\n",
        "\n",
        "**Before starting:** Make sure you've played Clash Royale to at least the second arena and understand the basic game mechanics. Also watch Stefan Engblom's [GDC talk](https://www.youtube.com/watch?v=bHLQQh8Ctu4) on balancing Clash Royale.\n",
        "\n",
        "**How to use this notebook:** Progress cell-by-cell, reading the text and running the code. Click on the small triangles to expand the sections. Some cells give you exercises. Think of those as a puzzle game: Try to solve the exercises without showing the hints and solutions, which are hidden by default. Add a new code cell below each exercise for your attempt. You may copy-paste code from earlier cells to get started.\n",
        "\n",
        "This notebook is part of Aalto University's Game Analysis course, inspired by the GDC talk above and this [Hearthstone data science tutorial](https://www.kaggle.com/ismailgungor/data-science-tutorial-with-hearthstone-cards)"
      ]
    },
    {
      "cell_type": "markdown",
      "metadata": {
        "id": "KMNwOdlXzR9u"
      },
      "source": [
        "First, the standard imports (Numpy and PyPlot) plus Pandas for dataset utilities."
      ]
    },
    {
      "cell_type": "code",
      "metadata": {
        "id": "cX-b1_bKxYNc"
      },
      "source": [
        "import numpy as np\n",
        "import matplotlib.pyplot as plt\n",
        "import pandas as pd  #.csv file utils etc."
      ],
      "execution_count": null,
      "outputs": []
    },
    {
      "cell_type": "markdown",
      "metadata": {
        "id": "OZq6KodlyOr2"
      },
      "source": [
        "Fetch the dataset from the course's Github, if not already fetched (avoid duplicates if this code is run multiple times). Note that we use the \"!\" prefix to use the Linux wget command line utility."
      ]
    },
    {
      "cell_type": "code",
      "metadata": {
        "id": "cvSEavaTxdAS"
      },
      "source": [
        "#import file path utilities\n",
        "from os import path\n",
        "#check if the dataset already exists\n",
        "if not path.exists(\"dataset.csv\"):\n",
        "  #fetch the dataset from the url.\n",
        "  !wget -O dataset.csv https://raw.githubusercontent.com/PerttuHamalainen/GameAnalysis/master/datasets/clash_wiki_dataset.csv\n"
      ],
      "execution_count": null,
      "outputs": []
    },
    {
      "cell_type": "markdown",
      "metadata": {
        "id": "gcB5j1LcykIP"
      },
      "source": [
        "Create a Pandas DataFrame object from the dataset and show the first few rows using the DataFrame's head() utility.\n",
        "\n",
        "Note that you can also **interactively browse the dataset**, change the sorting order etc. by clicking on the folder icon on the left to open the Colab file browser, and then double-clicking on \"dataset.csv\". The \".csv\" format is a common human-readable and portable way to store various tabular data."
      ]
    },
    {
      "cell_type": "code",
      "metadata": {
        "id": "RGe3GO2uyVsX"
      },
      "source": [
        "data = pd.read_csv(\"dataset.csv\",encoding='iso-8859-1')\n",
        "data.head()"
      ],
      "execution_count": null,
      "outputs": []
    },
    {
      "cell_type": "markdown",
      "metadata": {
        "id": "53N71dgXEuQF"
      },
      "source": [
        "We see that the data is not super clean: There are many card types and for some cards, some values are NaN:s (which here signal that the value is not defined). There are also some other exceptions such as the damage per second, which is NaN for spells and numeric for other cards, except Inferno tower and Inferno dragon, where it is given as a range of values. To help dealing with this, we first define a helper function for getting a clean subset where rows containing non-numeric values are removed.\n"
      ]
    },
    {
      "cell_type": "code",
      "metadata": {
        "id": "IEHv1TKgFbqs"
      },
      "source": [
        "#Returns a new Pandas dataframe consisting of only the given columns.\n",
        "#Rows with non-numeric values are removed.\n",
        "#The columns argument can be a single column such as \"Cost\"\n",
        "#or a list such as [\"Cost\",\"Damage\"]\n",
        "#TODO: This code is ugly, figure out a more concise way.\n",
        "def getCleanSubset(data,columns):\n",
        "  subset=data[columns].copy()\n",
        "  #Also add the card names for easier visualization\n",
        "  subset[\"Card\"]=data[\"Card\"]\n",
        "  #remove rows with missing values\n",
        "  subset=subset.dropna(axis=\"index\")\n",
        "  #remove rows with something that cannot be expressed as a number\n",
        "  if not isinstance(columns,list):\n",
        "    #if the columns is not a list (i.e., it is a single column),\n",
        "    #wrap it into a list for the loop below\n",
        "    columns=[columns]\n",
        "  for column in columns:\n",
        "    #Remove rows that cannot be converted to a numeric value\n",
        "    subset=subset[pd.to_numeric(subset[column], errors='coerce').notnull()]\n",
        "    #Convert to numeric value\n",
        "    subset[column]=pd.to_numeric(subset[column], errors='coerce')\n",
        "  return subset\n",
        "\n",
        "#Test the function\n",
        "print(getCleanSubset(data,[\"Cost\",\"Damage per second\"]))"
      ],
      "execution_count": null,
      "outputs": []
    },
    {
      "cell_type": "markdown",
      "metadata": {
        "id": "Bc0yjtuz0q2n"
      },
      "source": [
        "### Analyzing cost and benefit of cards using scatter plots and correlation\n",
        "\n",
        "In Clash Royale, the player has a deck of 8 cards, and deploying each card costs elixir, which is only slowly replenished. The key to winning is investing elixir smartly, getting maximum benefits for each drop of elixir spent. Thus, cards with a high elixir cost are typically more powerful.\n",
        "\n",
        "The basic problem of balancing the card stats is to keep the cost/benefit ratios of the cards constant so that no card provides a clearly better or worse ratio. This is important for the meta game (i.e., how the players choose and optimize their card decks) to have variety, i.e., all cards to have approximately similar use rates. If there were clearly superior cards, every player would use them and the meta would become boring.\n",
        "\n",
        "To investigate this, let's plot some card stats with respect to the elixir cost and their correlation coefficients. A correlation of 1 would mean that the stat in question is directly proportional to cost. Correlation of 0 indicates no relation, and negative correlations indicate inverse proportionality."
      ]
    },
    {
      "cell_type": "code",
      "metadata": {
        "id": "VrCaot9j2YZ3"
      },
      "source": [
        "subset=getCleanSubset(data,[\"Health (+Shield)\",\"Cost\"])\n",
        "subset.plot.scatter(x=\"Cost\",y=\"Health (+Shield)\")\n",
        "print(\"Correlation:\",subset[\"Cost\"].corr(subset[\"Health (+Shield)\"]))"
      ],
      "execution_count": null,
      "outputs": []
    },
    {
      "cell_type": "markdown",
      "metadata": {
        "id": "hGeCCzYOVTEh"
      },
      "source": [
        "###Exercise: Do the same with some other variables such as cost vs. damage per second.\n",
        "\n",
        "---\n",
        "\n",
        "\n",
        "\n",
        "Add a new code cell below this text, copy-paste the code above to it, and edit it. Which values are highly correlated with the cost?\n",
        "\n",
        "Optional: Annotate the scatterplot with card names. See, for example, https://stackoverflow.com/questions/15910019/annotate-data-points-while-plotting-from-pandas-dataframe/15911372#15911372"
      ]
    },
    {
      "cell_type": "markdown",
      "metadata": {
        "id": "tI7gZEs4VhDx"
      },
      "source": [
        "####Solution (expand to show code)"
      ]
    },
    {
      "cell_type": "code",
      "metadata": {
        "id": "nX8Q0nAUDycs"
      },
      "source": [
        "subset=getCleanSubset(data,[\"Damage per second\",\"Cost\"])\n",
        "subset.plot.scatter(x=\"Cost\",y=\"Damage per second\")\n",
        "print(\"Correlation:\",subset[\"Cost\"].corr(subset[\"Damage per second\"]))"
      ],
      "execution_count": null,
      "outputs": []
    },
    {
      "cell_type": "markdown",
      "metadata": {
        "id": "WVQB8EFKVraD"
      },
      "source": [
        "###Calculating benefit based on multiple values\n",
        "The code below shows how to perform math on Pandas dataframe columns and add the results as a new column. We call this column \"Benefit\" and calculate it as the sum of damage per second and health. This yields a tiny bit better correlation (to be improved in the exercise that follows)."
      ]
    },
    {
      "cell_type": "code",
      "metadata": {
        "id": "rStLqIX6V1rT"
      },
      "source": [
        "#Example of adding a new column that combines existing ones\n",
        "s=getCleanSubset(data,[\"Damage per second\",\"Health (+Shield)\",\"Cost\"])\n",
        "s[\"Benefit\"]=s[\"Damage per second\"]+s[\"Health (+Shield)\"]\n",
        "s.plot.scatter(x=\"Cost\",y=\"Benefit\")\n",
        "print(\"Correlation:\",s[\"Cost\"].corr(s[\"Benefit\"]))"
      ],
      "execution_count": null,
      "outputs": []
    },
    {
      "cell_type": "markdown",
      "metadata": {
        "id": "gYbBgAH-Lbv2"
      },
      "source": [
        "###Exercise: Improve the benefit calculation\n",
        "Improve the code above by figuring out how to combine at least three stats.\n",
        "\n",
        "How close to 1 can you get the correlation? If you can get a correlation of 1, you have reverse-engineered how Clash Royale designers balance the stats.\n"
      ]
    },
    {
      "cell_type": "markdown",
      "metadata": {
        "id": "QQIUJMigTIQp"
      },
      "source": [
        "####Hint: (expand this section to show)\n"
      ]
    },
    {
      "cell_type": "markdown",
      "metadata": {
        "id": "6FpvQFjnTl_g"
      },
      "source": [
        "Try using \"Damage per second\", \"Count\", and \"Health (+Shield)\". Note that you can use all basic math operations such as multiplication and addition. Consider that the total damage caused by a troop depends on both damage per second and the troop's lifespan, and the lifespan depends on health."
      ]
    },
    {
      "cell_type": "markdown",
      "metadata": {
        "id": "UfGp2HqNXMvC"
      },
      "source": [
        "####Solution: (expand this section to show)"
      ]
    },
    {
      "cell_type": "markdown",
      "metadata": {
        "id": "vv4Gi39YXd9K"
      },
      "source": [
        "In this example solution (which is not the only possible one), we multiply the DPS, count, and health together. This way, the benefit is calculated as the total damage the a troop (or a swarm of \"Count\" units) might deal to an opponent.\n",
        "\n",
        "Of course, this is still a simple approximation, omitting details like a swarm being weak against splash damage."
      ]
    },
    {
      "cell_type": "code",
      "metadata": {
        "id": "nCI08g3zEdz8"
      },
      "source": [
        "s=getCleanSubset(data,[\"Damage per second\",\"Count\",\"Health (+Shield)\",\"Cost\"])\n",
        "s[\"Benefit\"]=s[\"Count\"]*s[\"Damage per second\"]*s[\"Health (+Shield)\"]\n",
        "s.plot.scatter(x=\"Cost\",y=\"Benefit\")\n",
        "print(\"Correlation:\",s[\"Cost\"].corr(s[\"Benefit\"]))"
      ],
      "execution_count": null,
      "outputs": []
    },
    {
      "cell_type": "markdown",
      "metadata": {
        "id": "s11aTmXklxip"
      },
      "source": [
        "###Linear models\n",
        "\n",
        "Above, we've only used scatterplots and correlation. These can indicate which parameters are good for predicting benefit linearly based on cost. However, these don't directly answer questions like **\"If I have a new card with these stats, what should its elixir cost be?\"** or \"What would be reasonable values for some stats if other stats are known?\".\n",
        "\n",
        "To answer such questions, one can try a linear model from the Scikit Learn package. The linear model is of form ```ax+b=y```. In our case, x is benefit and y is cost, and model estimates the a and b.\n",
        "\n",
        "Note: To allow modeling, we need to first convert the Pandas dataframe columns to Numpy arrays. You can ignore the details of how this is done in the convert() function, but if you'd like to learn about Numpy arrays and reshaping, see https://numpy.org/doc/stable/user/quickstart.html"
      ]
    },
    {
      "cell_type": "code",
      "metadata": {
        "id": "otRCNsWcnkqv"
      },
      "source": [
        "#Import the tool we need\n",
        "from sklearn.linear_model import LinearRegression\n",
        "#A converter function that accepts Pandas dataframes and\n",
        "#plain floating point or integer numbers and returns 2D Numpy arrays\n",
        "#which are expected by sklearn\n",
        "def convert(x):\n",
        "  if isinstance(x,pd.DataFrame) or isinstance(x,pd.Series):\n",
        "    return x.to_numpy().reshape([-1,1])\n",
        "  elif isinstance(x,float) or isinstance(x,int):\n",
        "    return np.array(x).reshape([-1,1])\n",
        "  else:\n",
        "    print(\"Can't convert this data type\")\n",
        "#Calculate benefit as above\n",
        "s=getCleanSubset(data,[\"Damage per second\",\"Count\",\"Health (+Shield)\",\"Cost\"])\n",
        "s[\"Benefit\"]=s[\"Count\"]*s[\"Damage per second\"]*s[\"Health (+Shield)\"]\n",
        "#Create a new model\n",
        "model=LinearRegression()\n",
        "#Fit the model to data so that it predicts cost from benefit.\n",
        "model.fit(convert(s[\"Benefit\"]),convert(s[\"Cost\"]))\n",
        "#Print the regression coefficients a,b\n",
        "print(\"a,b\",model.coef_,model.intercept_)\n",
        "#Now, we can predict the cost for some new benefit value.\n",
        "s[\"PredictedCost\"]=model.predict(convert(s[\"Benefit\"]))\n",
        "#Plot both actual and predicted costs\n",
        "s.plot.scatter(x=\"Cost\",y=\"Benefit\")\n",
        "s.plot.scatter(x=\"PredictedCost\",y=\"Benefit\")"
      ],
      "execution_count": null,
      "outputs": []
    },
    {
      "cell_type": "markdown",
      "source": [
        "To better compare two types of data, it's often good to plot them in the same figure. This can be done by first calling ```plt.figure()``` and then calling ```plt.scatter()``` for each dataset. This automatically results in a different color for each dataset. Finally, calling ```plt.legend()``` makes the data labels visible."
      ],
      "metadata": {
        "id": "EcUscjNqtAEJ"
      }
    },
    {
      "cell_type": "code",
      "source": [
        "# @title\n",
        "plt.figure()\n",
        "plt.scatter(s[\"PredictedCost\"],s[\"Benefit\"],label=\"Predicted cost\")\n",
        "plt.scatter(s[\"Cost\"],s[\"Benefit\"],label=\"Actual cost\")\n",
        "plt.xlabel(\"Cost\")\n",
        "plt.ylabel(\"Benefit\")\n",
        "plt.legend()"
      ],
      "metadata": {
        "cellView": "form",
        "collapsed": true,
        "id": "vODEJ2HZsTOj"
      },
      "execution_count": null,
      "outputs": []
    },
    {
      "cell_type": "markdown",
      "metadata": {
        "id": "EuDPFCB5u1ha"
      },
      "source": [
        "###Exercise: use the model to calculate and print elixir cost for a hypothetical new card with some DPS, health, and count values.\n",
        "\n",
        "Note: after you've run the code above, the variables are also available in all the cells below it, so you can directly use ```model.predict(benefit)```. Also remember to use the convert() function.\n"
      ]
    },
    {
      "cell_type": "markdown",
      "metadata": {
        "id": "k2eeLcuBxhCy"
      },
      "source": [
        "####Solution (expand to show):"
      ]
    },
    {
      "cell_type": "code",
      "metadata": {
        "id": "YrlGLHOOxf1R"
      },
      "source": [
        "#Define the parameters\n",
        "dps=1000\n",
        "health=100\n",
        "count=2\n",
        "#Compute the benefit similar to above\n",
        "benefit=dps*health*count\n",
        "#Print the predicted cost\n",
        "print(\"Predicted elixir cost\",model.predict(convert(benefit)))"
      ],
      "execution_count": null,
      "outputs": []
    },
    {
      "cell_type": "markdown",
      "metadata": {
        "id": "nHrI9P0Q4kOS"
      },
      "source": [
        "###Exercise: find cards that violate the model. What do these tell about the model?\n",
        "\n",
        "Basically, the cards that violate the model should give you insights of which mechanics and dynamics (e.g., card vs. card interactions) your model is not capturing."
      ]
    },
    {
      "cell_type": "markdown",
      "metadata": {
        "id": "knPMie046Dmb"
      },
      "source": [
        "####Hint (expand to show)\n"
      ]
    },
    {
      "cell_type": "markdown",
      "metadata": {
        "id": "IkknNg3T6Nlr"
      },
      "source": [
        "For example, you can calculate the absolute value of the cost prediction error for each card as ```np.abs(s[\"PredictedCost\"]-s[\"Cost\"])```. Then, sort the dataframe based on this (google Pandas sort) and print the head (see the beginning of this notebook).\n",
        "\n",
        "Another way could be to calculate cost/benefit ratios and sort the cards based on it. Cards with very low or high ratio violate your model."
      ]
    },
    {
      "cell_type": "markdown",
      "metadata": {
        "id": "fdkHwAJ76Hvb"
      },
      "source": [
        "####Solution (expand to show)"
      ]
    },
    {
      "cell_type": "markdown",
      "metadata": {
        "id": "XZQJCVolbk2K"
      },
      "source": [
        "The code below shows that the 5 cards with highest cost prediction error are Three Musketters, Lumberjack, Witch, Battle Ram, and Skeletons. This is not very surprising: The model does not take into account special abilities like Lumberjack's rage and the Witch spawning skeletons. Three musketeers and skeletons are swarm troops which have some additional dynamics like being able to be split onto two attack lanes. Battle ram's benefit is zero, meaning that there's probably an error in the data.  "
      ]
    },
    {
      "cell_type": "code",
      "metadata": {
        "id": "87ic8hsI6Gkr"
      },
      "source": [
        "s[\"PredictionErrors\"]=s[\"PredictedCost\"]-s[\"Cost\"]\n",
        "s[\"AbsPredictionErrors\"]=np.abs(s[\"PredictionErrors\"])\n",
        "sorted=s.sort_values(by=\"AbsPredictionErrors\",ascending=False)\n",
        "sorted.head()"
      ],
      "execution_count": null,
      "outputs": []
    },
    {
      "cell_type": "markdown",
      "metadata": {
        "id": "-NTSTbcU0_dc"
      },
      "source": [
        "###Exercise: Calculate health of a hypothetical new card based on some dps, count, and cost values"
      ]
    },
    {
      "cell_type": "markdown",
      "metadata": {
        "id": "BRaixOtU1LtD"
      },
      "source": [
        "####Hint (expand to show)"
      ]
    },
    {
      "cell_type": "markdown",
      "metadata": {
        "id": "QmDI4oZS1P37"
      },
      "source": [
        "The linear model gives us a and b for the equation ax+b=y. The y is the cost and x is the benefit. You can substitute the benefit formula used above into ax+b=y then solve any variable from others through basic algebraic manipulation."
      ]
    },
    {
      "cell_type": "markdown",
      "metadata": {
        "id": "DQORGQcs1lF7"
      },
      "source": [
        "####Solution (expand to show)"
      ]
    },
    {
      "cell_type": "code",
      "metadata": {
        "id": "kLVOFBsI1l4j"
      },
      "source": [
        "#Define the known parameters\n",
        "dps=1000\n",
        "count=2\n",
        "cost=4\n",
        "#Solve the following for health: dps*count*health*a+b=cost\n",
        "#=> health=(cost-b)/(dps*count*a)\n",
        "#The a and b are given by the model as above\n",
        "a=model.coef_\n",
        "b=model.intercept_\n",
        "#Print the predicted health\n",
        "health=(cost-b)/(dps*count*a)\n",
        "print(\"Predicted health\",health)"
      ],
      "execution_count": null,
      "outputs": []
    },
    {
      "cell_type": "markdown",
      "metadata": {
        "id": "DM0Vsi492uIj"
      },
      "source": [
        "Try different values! What happens to health, for example, if you increase dps or count?"
      ]
    },
    {
      "cell_type": "markdown",
      "metadata": {
        "id": "jVXpSEAUZtV1"
      },
      "source": [
        "###Advanced exercise 1:\n",
        "The dataset we use is old and does not include all the cards of the current Clash Royale version. Write Python code that scrapes the current stats from a website like https://clashroyale.fandom.com/wiki/Cards\n",
        "\n"
      ]
    },
    {
      "cell_type": "markdown",
      "source": [],
      "metadata": {
        "id": "0EkujcrQ08ro"
      }
    },
    {
      "cell_type": "markdown",
      "metadata": {
        "id": "3GLjSAdU3xXr"
      },
      "source": [
        "###Advanced exercise 2:\n",
        "\n",
        "Implement a simulation of card vs. card battles. Use the simulation to analyze intransitive balance, i.e., \"rock paper scissors\" balance: Every card should win in some situations but also have one or multiple counters. Write a script that highlights which cards violate this rule. Such a script could be valuable for automatically testing that the balance is not broken."
      ]
    },
    {
      "cell_type": "markdown",
      "metadata": {
        "id": "eAbzS5NsY8qT"
      },
      "source": [
        "###Advanced exercise 3:\n",
        "Extend the benefit calculation to all card types. You may need to loop over all cards in a for loop and do the benefit calculation differently for each type. Also try to incorporate mechanics like death damage and ranged attacks.\n",
        "\n",
        "How close to 1 can you get the correlation?"
      ]
    }
  ]
}