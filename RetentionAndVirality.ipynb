{
  "nbformat": 4,
  "nbformat_minor": 0,
  "metadata": {
    "kernelspec": {
      "display_name": "tensorflow2env",
      "language": "python",
      "name": "tensorflow2env"
    },
    "language_info": {
      "codemirror_mode": {
        "name": "ipython",
        "version": 3
      },
      "file_extension": ".py",
      "mimetype": "text/x-python",
      "name": "python",
      "nbconvert_exporter": "python",
      "pygments_lexer": "ipython3",
      "version": "3.5.4"
    },
    "colab": {
      "name": "RetentionAndVirality.ipynb",
      "provenance": [],
      "collapsed_sections": [
        "Lf5YM8uTS5Uk",
        "vdvsO1mpS5Ul",
        "sbW2Uqk1S5Ul",
        "d7Z6iISeS5Um",
        "ohcqzAXZS5Un",
        "Buv--ZeilfAe",
        "bZXS_6R1S5Uo",
        "tKHRuxvoT8Th",
        "YEqKJtt1ZmrS",
        "0uN7OgbQyqwP",
        "iLVpXQfq3lEO",
        "ylBLAbAgmKAG",
        "4gSf4b076M1u",
        "An1PEtGhmi-s",
        "GhNmiHA1nMJt"
      ]
    },
    "widgets": {
      "application/vnd.jupyter.widget-state+json": {
        "7dd7ab5679e54d45836810b409c00fea": {
          "model_module": "@jupyter-widgets/controls",
          "model_name": "VBoxModel",
          "state": {
            "_view_name": "VBoxView",
            "_dom_classes": [
              "widget-interact"
            ],
            "_model_name": "VBoxModel",
            "_view_module": "@jupyter-widgets/controls",
            "_model_module_version": "1.5.0",
            "_view_count": null,
            "_view_module_version": "1.5.0",
            "box_style": "",
            "layout": "IPY_MODEL_243b9e96b4cd4eb888f2e7161f8479d4",
            "_model_module": "@jupyter-widgets/controls",
            "children": [
              "IPY_MODEL_da50bc4756f54c9682dd735d34c73feb",
              "IPY_MODEL_b57db26ce92147fbaefcb6000caffc3b"
            ]
          }
        },
        "243b9e96b4cd4eb888f2e7161f8479d4": {
          "model_module": "@jupyter-widgets/base",
          "model_name": "LayoutModel",
          "state": {
            "_view_name": "LayoutView",
            "grid_template_rows": null,
            "right": null,
            "justify_content": null,
            "_view_module": "@jupyter-widgets/base",
            "overflow": null,
            "_model_module_version": "1.2.0",
            "_view_count": null,
            "flex_flow": null,
            "width": null,
            "min_width": null,
            "border": null,
            "align_items": null,
            "bottom": null,
            "_model_module": "@jupyter-widgets/base",
            "top": null,
            "grid_column": null,
            "overflow_y": null,
            "overflow_x": null,
            "grid_auto_flow": null,
            "grid_area": null,
            "grid_template_columns": null,
            "flex": null,
            "_model_name": "LayoutModel",
            "justify_items": null,
            "grid_row": null,
            "max_height": null,
            "align_content": null,
            "visibility": null,
            "align_self": null,
            "height": null,
            "min_height": null,
            "padding": null,
            "grid_auto_rows": null,
            "grid_gap": null,
            "max_width": null,
            "order": null,
            "_view_module_version": "1.2.0",
            "grid_template_areas": null,
            "object_position": null,
            "object_fit": null,
            "grid_auto_columns": null,
            "margin": null,
            "display": null,
            "left": null
          }
        },
        "da50bc4756f54c9682dd735d34c73feb": {
          "model_module": "@jupyter-widgets/controls",
          "model_name": "FloatSliderModel",
          "state": {
            "_view_name": "FloatSliderView",
            "style": "IPY_MODEL_832648129ffa4657b2620e967dceaba1",
            "_dom_classes": [],
            "description": "virality",
            "step": 0.01,
            "_model_name": "FloatSliderModel",
            "orientation": "horizontal",
            "max": 1,
            "_view_module": "@jupyter-widgets/controls",
            "_model_module_version": "1.5.0",
            "value": 0.1,
            "_view_count": null,
            "disabled": false,
            "_view_module_version": "1.5.0",
            "min": 0,
            "continuous_update": true,
            "readout_format": ".2f",
            "description_tooltip": null,
            "readout": true,
            "_model_module": "@jupyter-widgets/controls",
            "layout": "IPY_MODEL_0926ac96aace4e74802bfe8359ee7da1"
          }
        },
        "b57db26ce92147fbaefcb6000caffc3b": {
          "model_module": "@jupyter-widgets/output",
          "model_name": "OutputModel",
          "state": {
            "_view_name": "OutputView",
            "msg_id": "",
            "_dom_classes": [],
            "_model_name": "OutputModel",
            "outputs": [
              {
                "output_type": "display_data",
                "metadata": {
                  "tags": [],
                  "needs_background": "light"
                },
                "image/png": "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\n",
                "text/plain": "<Figure size 432x288 with 1 Axes>"
              }
            ],
            "_view_module": "@jupyter-widgets/output",
            "_model_module_version": "1.0.0",
            "_view_count": null,
            "_view_module_version": "1.0.0",
            "layout": "IPY_MODEL_c335964d4e2847f4b095d8dd57c15aaa",
            "_model_module": "@jupyter-widgets/output"
          }
        },
        "832648129ffa4657b2620e967dceaba1": {
          "model_module": "@jupyter-widgets/controls",
          "model_name": "SliderStyleModel",
          "state": {
            "_view_name": "StyleView",
            "handle_color": null,
            "_model_name": "SliderStyleModel",
            "description_width": "",
            "_view_module": "@jupyter-widgets/base",
            "_model_module_version": "1.5.0",
            "_view_count": null,
            "_view_module_version": "1.2.0",
            "_model_module": "@jupyter-widgets/controls"
          }
        },
        "0926ac96aace4e74802bfe8359ee7da1": {
          "model_module": "@jupyter-widgets/base",
          "model_name": "LayoutModel",
          "state": {
            "_view_name": "LayoutView",
            "grid_template_rows": null,
            "right": null,
            "justify_content": null,
            "_view_module": "@jupyter-widgets/base",
            "overflow": null,
            "_model_module_version": "1.2.0",
            "_view_count": null,
            "flex_flow": null,
            "width": null,
            "min_width": null,
            "border": null,
            "align_items": null,
            "bottom": null,
            "_model_module": "@jupyter-widgets/base",
            "top": null,
            "grid_column": null,
            "overflow_y": null,
            "overflow_x": null,
            "grid_auto_flow": null,
            "grid_area": null,
            "grid_template_columns": null,
            "flex": null,
            "_model_name": "LayoutModel",
            "justify_items": null,
            "grid_row": null,
            "max_height": null,
            "align_content": null,
            "visibility": null,
            "align_self": null,
            "height": null,
            "min_height": null,
            "padding": null,
            "grid_auto_rows": null,
            "grid_gap": null,
            "max_width": null,
            "order": null,
            "_view_module_version": "1.2.0",
            "grid_template_areas": null,
            "object_position": null,
            "object_fit": null,
            "grid_auto_columns": null,
            "margin": null,
            "display": null,
            "left": null
          }
        },
        "c335964d4e2847f4b095d8dd57c15aaa": {
          "model_module": "@jupyter-widgets/base",
          "model_name": "LayoutModel",
          "state": {
            "_view_name": "LayoutView",
            "grid_template_rows": null,
            "right": null,
            "justify_content": null,
            "_view_module": "@jupyter-widgets/base",
            "overflow": null,
            "_model_module_version": "1.2.0",
            "_view_count": null,
            "flex_flow": null,
            "width": null,
            "min_width": null,
            "border": null,
            "align_items": null,
            "bottom": null,
            "_model_module": "@jupyter-widgets/base",
            "top": null,
            "grid_column": null,
            "overflow_y": null,
            "overflow_x": null,
            "grid_auto_flow": null,
            "grid_area": null,
            "grid_template_columns": null,
            "flex": null,
            "_model_name": "LayoutModel",
            "justify_items": null,
            "grid_row": null,
            "max_height": null,
            "align_content": null,
            "visibility": null,
            "align_self": null,
            "height": null,
            "min_height": null,
            "padding": null,
            "grid_auto_rows": null,
            "grid_gap": null,
            "max_width": null,
            "order": null,
            "_view_module_version": "1.2.0",
            "grid_template_areas": null,
            "object_position": null,
            "object_fit": null,
            "grid_auto_columns": null,
            "margin": null,
            "display": null,
            "left": null
          }
        }
      }
    }
  },
  "cells": [
    {
      "cell_type": "markdown",
      "metadata": {
        "id": "Lf5YM8uTS5Uk"
      },
      "source": [
        "### Game analysis: churn, virality, monetization\n",
        "\n",
        "This Colab notebook demonstrates how to simulate the effect of churn and virality on one's playerbase and concludes with a monetization forecasting simulation for a hypothetical game company. The simulations start from simple and unrealistic, and gradually add components towards a more complex and realistic model. \n",
        "\n",
        "This notebook also serves as a tutorial on Python programming and data plotting for those only familiar with Unity & C#. For more Python learning resources, you can also see: https://github.com/PerttuHamalainen/MediaAI/blob/master/Lessons/Python.md\n",
        "\n",
        "**Learning goals:** \n",
        "- Understanding how simple recursive dependencies can lead to exponential growth or decay. \n",
        "- Understanding how recurrent revenue (e.g., monetization through in-app purchases) and investing game revenue in user acquisition are vital in making a game company profitable.\n",
        "- Preliminaries of Colab notebooks and Python. Although most game designers still use Excel/Google Sheets, Python has recently emerged as the de facto tool for data science and machine learning in games and other fields. Python can do the same as Excel, but scales better to complex simulations and the plain text variable make code more readable than spreadsheet formulas such as ```$I$6*D22/100+D24/$D$3+$D$10*$D$11*D22```. One can also use spreadsheets and Python together, pulling data from Google Sheets to Python and pushing simulation results back. In the end, one should use the tool that is most productive for oneself. For reference, [this Excel](https://github.com/PerttuHamalainen/GameAnalysis/raw/master/spreadsheets/monetization%20forecast.xlsx) provides a simulation similar to the final result of this notebook. \n",
        "\n",
        "**How to use:** Students should proceed section by section, reading the code and doing the exercises. Click on the triangle on the left of a section header to view the contents. I'm also assuming you've attended my intro lecture or at least checked the [lecture slides](https://raw.githubusercontent.com/PerttuHamalainen/GameAnalysis/master/lectures/gdmath_2020_part1.pdf).\n",
        "\n",
        "*The exercises contain model solutions, but these are hidden by default. Think of this as **a puzzle game** and try to first complete the exercises without help.* \n"
      ]
    },
    {
      "cell_type": "markdown",
      "metadata": {
        "id": "vdvsO1mpS5Ul"
      },
      "source": [
        "### Getting started\n",
        "\n",
        "Usually, every Colab notebook starts by importing some basic tools such as numpy (numerical computation such as linear algebra) and pyplot (data visualization). This is similar to C++ \"include\" or C# \"using\". Python also allows defining shorthand names for the packages using the \"as\" keyword. \n",
        "\n",
        "The packages contain useful utilities. For example, after the ```import matplotlib.pyplot as plt```, one can write ```plt.plot(data)``` to run the PyPlot package's ```plot``` function on the ```data``` argument passed into the function inside the parenthesis. The function assumes that data is a list or array of numbers (more on this later). "
      ]
    },
    {
      "cell_type": "code",
      "metadata": {
        "id": "AOfoR20US5Ul"
      },
      "source": [
        "import numpy as np\n",
        "import matplotlib.pyplot as plt"
      ],
      "execution_count": null,
      "outputs": []
    },
    {
      "cell_type": "markdown",
      "metadata": {
        "id": "sbW2Uqk1S5Ul"
      },
      "source": [
        "### Basic recursion \n",
        "\n",
        "First, let's write a very simple simulation of how each player might recruit new players virally, e.g., by sharing on social media. This is not a very realistic model, but we are keeping this simple so that those with less programming experience are not overwhelmed by complex code. We will add more complexity and realism later.\n",
        "\n",
        "If you are new to Python, please check this [brief intro to Python syntax](https://raw.githubusercontent.com/PerttuHamalainen/GameAnalysis/master/lectures/IntroToPythonSyntax.pdf).\n"
      ]
    },
    {
      "cell_type": "code",
      "metadata": {
        "colab": {
          "base_uri": "https://localhost:8080/"
        },
        "id": "-kOWqFGaS5Ul",
        "outputId": "c1318896-79ff-4ce1-8741-362e8a61f4c2"
      },
      "source": [
        "#Simulation parameters: The initial number of players and the virality multiplier \n",
        "#that specifies how many new players each existing player recruits per day, on average. \n",
        "#You can choose these as you like. If you were using a simulation for making real-world \n",
        "#predictions, you would try to measure virality based on past data.\n",
        "players=1000\n",
        "virality=0.1\n",
        "\n",
        "#Simulation loop\n",
        "for i in range(20):\n",
        "    players=players + virality*players\n",
        "    print(players)"
      ],
      "execution_count": null,
      "outputs": [
        {
          "output_type": "stream",
          "text": [
            "1100.0\n",
            "1210.0\n",
            "1331.0\n",
            "1464.1\n",
            "1610.51\n",
            "1771.561\n",
            "1948.7170999999998\n",
            "2143.5888099999997\n",
            "2357.947691\n",
            "2593.7424601\n",
            "2853.1167061099995\n",
            "3138.4283767209995\n",
            "3452.2712143930994\n",
            "3797.4983358324093\n",
            "4177.24816941565\n",
            "4594.972986357216\n",
            "5054.470284992937\n",
            "5559.917313492231\n",
            "6115.9090448414545\n",
            "6727.4999493256\n"
          ],
          "name": "stdout"
        }
      ]
    },
    {
      "cell_type": "markdown",
      "metadata": {
        "id": "wtvEsOyeS5Um"
      },
      "source": [
        "Let's do the same but practice formatting the printout in a bit more informative manner. The ```print``` function takes in a character string that is inside the \" \". Python strings also provide the ```format``` method that can replace the ```{}``` inside the string with variables. \n",
        "\n",
        "For more information on Python string formatting, see: https://www.w3schools.com/python/ref_string_format.asp"
      ]
    },
    {
      "cell_type": "code",
      "metadata": {
        "colab": {
          "base_uri": "https://localhost:8080/"
        },
        "id": "gUuhbO_SS5Um",
        "outputId": "89d7a26e-c015-4346-f6ab-cffdf8bfb79e"
      },
      "source": [
        "players=1000\n",
        "virality=0.1\n",
        "for i in range(20):\n",
        "    players=players + virality*players\n",
        "    print(\"Day {}, current players {}\".format(i,players))"
      ],
      "execution_count": null,
      "outputs": [
        {
          "output_type": "stream",
          "text": [
            "Day 0, current players 1100.0\n",
            "Day 1, current players 1210.0\n",
            "Day 2, current players 1331.0\n",
            "Day 3, current players 1464.1\n",
            "Day 4, current players 1610.51\n",
            "Day 5, current players 1771.561\n",
            "Day 6, current players 1948.7170999999998\n",
            "Day 7, current players 2143.5888099999997\n",
            "Day 8, current players 2357.947691\n",
            "Day 9, current players 2593.7424601\n",
            "Day 10, current players 2853.1167061099995\n",
            "Day 11, current players 3138.4283767209995\n",
            "Day 12, current players 3452.2712143930994\n",
            "Day 13, current players 3797.4983358324093\n",
            "Day 14, current players 4177.24816941565\n",
            "Day 15, current players 4594.972986357216\n",
            "Day 16, current players 5054.470284992937\n",
            "Day 17, current players 5559.917313492231\n",
            "Day 18, current players 6115.9090448414545\n",
            "Day 19, current players 6727.4999493256\n"
          ],
          "name": "stdout"
        }
      ]
    },
    {
      "cell_type": "markdown",
      "metadata": {
        "id": "d7Z6iISeS5Um"
      },
      "source": [
        "### Plotting\n",
        "\n",
        "An alternative to printing out results is visualizing the data. For this, we define a Python list called \"data\" and add the player counts of each simulation step to the list. After this, one can simply call PyPlot's plt() function."
      ]
    },
    {
      "cell_type": "code",
      "metadata": {
        "colab": {
          "base_uri": "https://localhost:8080/",
          "height": 309
        },
        "id": "HtxUTYEDS5Un",
        "outputId": "c0cbc4d6-1e56-4370-dbb6-cfc7fad96073"
      },
      "source": [
        "#Parameters\n",
        "players=1000\n",
        "virality=0.1\n",
        "\n",
        "#Empty Python list, simulation data will be added to this\n",
        "data=[]\n",
        "\n",
        "#Simulation loop \n",
        "for i in range(100):\n",
        "    #store this day's player count for plotting\n",
        "    data.append(players)\n",
        "    #simulate\n",
        "    players=players + virality*players\n",
        "    \n",
        "#plot\n",
        "plt.plot(data)\n",
        "plt.xlabel(\"Days\")\n",
        "plt.ylabel(\"Players\")"
      ],
      "execution_count": null,
      "outputs": [
        {
          "output_type": "execute_result",
          "data": {
            "text/plain": [
              "Text(0, 0.5, 'Players')"
            ]
          },
          "metadata": {
            "tags": []
          },
          "execution_count": 15
        },
        {
          "output_type": "display_data",
          "data": {
            "image/png": "[encoded data removed]",
            "text/plain": [
              "<Figure size 432x288 with 1 Axes>"
            ]
          },
          "metadata": {
            "tags": [],
            "needs_background": "light"
          }
        }
      ]
    },
    {
      "cell_type": "markdown",
      "metadata": {
        "id": "ohcqzAXZS5Un"
      },
      "source": [
        "### Exercise: Add simulation of churn, i.e., players quitting with some probability.\n",
        "\n",
        "Add a code cell to type in the code. **Only click to show the model solution below after you've tried to implement the code yourself.**\n",
        "\n",
        "Hint: you should be able to do this by copying the code above and making two changes: 1) add a line that defines a churnProbability (in range 0...1, denoting the percentage of churned players divided by 100), and subtract churned players from the current player count similar to how the virally recruited players are added."
      ]
    },
    {
      "cell_type": "markdown",
      "metadata": {
        "id": "Buv--ZeilfAe"
      },
      "source": [
        "####Solution (expand to show)\n"
      ]
    },
    {
      "cell_type": "code",
      "metadata": {
        "colab": {
          "base_uri": "https://localhost:8080/",
          "height": 298
        },
        "id": "UdZF_7iCS5Uo",
        "outputId": "aeb9278c-98ab-4bbf-c593-cba51ae0f5e0"
      },
      "source": [
        "#simulate\n",
        "players=1000\n",
        "virality=0.1\n",
        "churnProbability=0.1\n",
        "data=[]\n",
        "for i in range(20):\n",
        "    data.append(players)\n",
        "    players=players + virality*players - churnProbability*players\n",
        "#plot\n",
        "plt.plot(data)\n",
        "plt.xlabel(\"Days\")\n",
        "plt.ylabel(\"Players\")"
      ],
      "execution_count": null,
      "outputs": [
        {
          "output_type": "execute_result",
          "data": {
            "text/plain": [
              "Text(0, 0.5, 'Players')"
            ]
          },
          "metadata": {
            "tags": []
          },
          "execution_count": 16
        },
        {
          "output_type": "display_data",
          "data": {
            "image/png": "[encoded data removed]",
            "text/plain": [
              "<Figure size 432x288 with 1 Axes>"
            ]
          },
          "metadata": {
            "tags": [],
            "needs_background": "light"
          }
        }
      ]
    },
    {
      "cell_type": "markdown",
      "metadata": {
        "id": "bZXS_6R1S5Uo"
      },
      "source": [
        "### Parameter sliders\n",
        "\n",
        "To make adjusting the parameters a bit intuitive an visual, one can use the @param metadata. After changing a parameter's value, one must run the code again. The keyboard shortcut for that is ctrl+enter, but note that it requires that the input focus is on the code, i.e., you must click the code window after adjusting a slider. \n",
        "\n",
        "More examples: https://colab.research.google.com/notebooks/forms.ipynb "
      ]
    },
    {
      "cell_type": "code",
      "metadata": {
        "colab": {
          "base_uri": "https://localhost:8080/",
          "height": 298
        },
        "id": "9rUTLqekS5Uo",
        "outputId": "dd2f32b0-5f20-4c05-faf7-417cf84e5d96"
      },
      "source": [
        "#simulate\n",
        "players=1000  #@param {type:\"slider\", min:0, max:1000, step:10}\n",
        "virality=0.1 #@param {type:\"slider\", min:0.0, max:1.0}\n",
        "churnProbability=0.1  #@param {type:\"slider\", min:0.0, max:1.0}\n",
        "data=[]\n",
        "for i in range(20):\n",
        "    data.append(players)\n",
        "    players=players + virality*players - churnProbability*players\n",
        "\n",
        "#plot\n",
        "plt.plot(data)\n",
        "plt.xlabel(\"Days\")\n",
        "plt.ylabel(\"Players\")"
      ],
      "execution_count": null,
      "outputs": [
        {
          "output_type": "execute_result",
          "data": {
            "text/plain": [
              "Text(0, 0.5, 'Players')"
            ]
          },
          "metadata": {
            "tags": []
          },
          "execution_count": 17
        },
        {
          "output_type": "display_data",
          "data": {
            "image/png": "[encoded data removed]",
            "text/plain": [
              "<Figure size 432x288 with 1 Axes>"
            ]
          },
          "metadata": {
            "tags": [],
            "needs_background": "light"
          }
        }
      ]
    },
    {
      "cell_type": "markdown",
      "metadata": {
        "id": "tKHRuxvoT8Th"
      },
      "source": [
        "###Multiple plots\n",
        "To show how the dynamics change with respect to some parameter, it can be useful to plot multiple curves together.\n",
        "\n",
        "We do this by first moving the simulation code inside a function, and then calling the function with different values for the virality. We will see that in our model, the player count will stay constant if churnProbability=virality. This is a so-called tipping point at which the system flips between exponential growth and decay.\n",
        "\n",
        "In Python, one defines functions with the \"def\" keyword, with a \":\" after the function name and parameters."
      ]
    },
    {
      "cell_type": "code",
      "metadata": {
        "colab": {
          "base_uri": "https://localhost:8080/",
          "height": 298
        },
        "id": "XRl1II0jT7ex",
        "outputId": "4ea1478a-c2b0-4181-a03f-7b3f044a16a1"
      },
      "source": [
        "#The simulation function\n",
        "def simulate(virality):\n",
        "    players=1000  \n",
        "    churnProbability=0.1  \n",
        "    data=[]\n",
        "    for i in range(20):\n",
        "        data.append(players)\n",
        "        players=players + virality*players - churnProbability*players\n",
        "    return data #we return the generated list of player counts\n",
        "\n",
        "#For loop that runs multiple simulations.\n",
        "#Instead of using the range() function, one can define\n",
        "#the values looped through using a list\n",
        "for virality in [0.01,0.1,0.2]:\n",
        "    #Get the simulated player counts\n",
        "    data=simulate(virality)\n",
        "    #Plotted curves can have labels. We use .format() similar to the printouts above.\n",
        "    plt.plot(data,label=\"virality={}\".format(virality))\n",
        "\n",
        "#plot\n",
        "plt.xlabel(\"Days\")\n",
        "plt.ylabel(\"Players\")\n",
        "plt.legend() #this makes the labels visible"
      ],
      "execution_count": null,
      "outputs": [
        {
          "output_type": "execute_result",
          "data": {
            "text/plain": [
              "<matplotlib.legend.Legend at 0x7f5d48569470>"
            ]
          },
          "metadata": {
            "tags": []
          },
          "execution_count": 18
        },
        {
          "output_type": "display_data",
          "data": {
            "image/png": "[encoded data removed]",
            "text/plain": [
              "<Figure size 432x288 with 1 Axes>"
            ]
          },
          "metadata": {
            "tags": [],
            "needs_background": "light"
          }
        }
      ]
    },
    {
      "cell_type": "markdown",
      "metadata": {
        "id": "YEqKJtt1ZmrS"
      },
      "source": [
        "###Interaction\n",
        "\n",
        "An alternative to the @param metadata is using @interact before a function definition. This adds user interface elements like sliders and the function is called whenever the user adjusts the slider.  \n",
        "\n",
        "Note that the plotting is now inside the function so that the plot gets updated whenever the user adjusts the slider.\n",
        "\n",
        "More examples can be found at https://colab.research.google.com/github/jupyter-widgets/ipywidgets/blob/master/docs/source/examples/Using%20Interact.ipynb\n"
      ]
    },
    {
      "cell_type": "code",
      "metadata": {
        "colab": {
          "base_uri": "https://localhost:8080/",
          "height": 311,
          "referenced_widgets": [
            "7dd7ab5679e54d45836810b409c00fea",
            "243b9e96b4cd4eb888f2e7161f8479d4",
            "da50bc4756f54c9682dd735d34c73feb",
            "b57db26ce92147fbaefcb6000caffc3b",
            "832648129ffa4657b2620e967dceaba1",
            "0926ac96aace4e74802bfe8359ee7da1",
            "c335964d4e2847f4b095d8dd57c15aaa"
          ]
        },
        "id": "9fyybVz0aWGE",
        "outputId": "2294c5ab-f243-4f2a-b61e-91e63326e498"
      },
      "source": [
        "#We need an additional import for the interaction functionality\n",
        "from ipywidgets import interact\n",
        "#The @interact attribute, with three numbers defining the slider min, max, step\n",
        "@interact(virality=(0,1,0.01))   \n",
        "#The function definition, which also gives the slider initial value\n",
        "def simulate(virality=0.1):      \n",
        "    players=1000  \n",
        "    churnProbability=0.1  \n",
        "    data=[]\n",
        "    for i in range(20):\n",
        "        data.append(players)\n",
        "        players=players + virality*players - churnProbability*players\n",
        "    plt.plot(data)\n",
        "    plt.xlabel(\"Days\")\n",
        "    plt.ylabel(\"Players\")\n",
        "\n"
      ],
      "execution_count": null,
      "outputs": [
        {
          "output_type": "display_data",
          "data": {
            "application/vnd.jupyter.widget-view+json": {
              "model_id": "7dd7ab5679e54d45836810b409c00fea",
              "version_minor": 0,
              "version_major": 2
            },
            "text/plain": [
              "interactive(children=(FloatSlider(value=0.1, description='virality', max=1.0, step=0.01), Output()), _dom_clas…"
            ]
          },
          "metadata": {
            "tags": []
          }
        }
      ]
    },
    {
      "cell_type": "markdown",
      "metadata": {
        "id": "0uN7OgbQyqwP"
      },
      "source": [
        "### Simulate game monetization and company cashflow\n",
        "\n",
        "Let's now expand the simulation to game monetization. We implement revenue per user, modeling the average income from both in app purchases and game purchases. Read and understand the code below, then proceed to the exercises where you'll modify the simulation to be more realistic. For now, it can provide some quite unrealistic results.\n"
      ]
    },
    {
      "cell_type": "code",
      "metadata": {
        "colab": {
          "base_uri": "https://localhost:8080/",
          "height": 560
        },
        "id": "dKxXCfip03PN",
        "outputId": "6dab8271-25ef-4ec1-d8d2-1f781e843a55"
      },
      "source": [
        "#Define simulation parameters\n",
        "initialMarketingBudget=10000\n",
        "money=20000 \n",
        "pricePerUser=1 #this is our user acquisition cost\n",
        "virality=0.1\n",
        "churnProbability=0.1\n",
        "dailyRevenuePerPlayer=0.1\n",
        "gamePrice=0\n",
        "\n",
        "#Compute initial values: Buy some initial players\n",
        "players=initialMarketingBudget/pricePerUser\n",
        "money-=initialMarketingBudget\n",
        "money+=players*gamePrice  #if the game price >0, the initial players also bring some revenue\n",
        "\n",
        "#Lists for results\n",
        "playerCounts=[]\n",
        "moneyAmounts=[]\n",
        "\n",
        "#Simulate\n",
        "for i in range(100):\n",
        "    #Store results\n",
        "    moneyAmounts.append(money)\n",
        "    playerCounts.append(players)\n",
        "\n",
        "    #Now, we explicitly compute new and churned players\n",
        "    #and store them into variables, as we need them\n",
        "    #for the monetization calculation \n",
        "    newPlayers=virality*players \n",
        "    churnedPlayers=churnProbability*players\n",
        "\n",
        "    #Update monetization\n",
        "    money+=players*dailyRevenuePerPlayer\n",
        "    money+=gamePrice*newPlayers\n",
        "\n",
        "    #Update player count\n",
        "    players=players + newPlayers - churnedPlayers\n",
        "\n",
        "#plot players over time\n",
        "plt.plot(playerCounts)\n",
        "plt.xlabel(\"Days\")\n",
        "plt.ylabel(\"Players\")\n",
        "\n",
        "#plot money over time\n",
        "plt.figure()  #create new plot\n",
        "plt.plot(moneyAmounts)\n",
        "plt.xlabel(\"Days\")\n",
        "plt.ylabel(\"Money\")"
      ],
      "execution_count": null,
      "outputs": [
        {
          "output_type": "execute_result",
          "data": {
            "text/plain": [
              "Text(0, 0.5, 'Money')"
            ]
          },
          "metadata": {
            "tags": []
          },
          "execution_count": 20
        },
        {
          "output_type": "display_data",
          "data": {
            "image/png": "[encoded data removed]",
            "text/plain": [
              "<Figure size 432x288 with 1 Axes>"
            ]
          },
          "metadata": {
            "tags": [],
            "needs_background": "light"
          }
        },
        {
          "output_type": "display_data",
          "data": {
            "image/png": "[encoded data removed]",
            "text/plain": [
              "<Figure size 432x288 with 1 Axes>"
            ]
          },
          "metadata": {
            "tags": [],
            "needs_background": "light"
          }
        }
      ]
    },
    {
      "cell_type": "markdown",
      "metadata": {
        "id": "iLVpXQfq3lEO"
      },
      "source": [
        "###Exercise: Implement personnel costs\n",
        "\n",
        "Add parameters: Number of employees, monthly salary (divide by 21 to get daily salary), employer auxiliary cost multiplier, and employer overheads multiplier (rent, computers, software). Update the money calculations accordingly. Add a new code cell and copy-paste the simulation code above to get started. \n",
        "\n",
        "For the auxiliary cost multiplier, you can use 1.36 (https://www.businessfinland.fi/en/do-business-with-finland/invest-in-finland/business-environment/cost-calculator). For overheads, a realistic multiplier is somewhere around 1.5 or 2.0.\n",
        "\n",
        "If you start the simulation with churnProbability=virality, you can now see how the company is making a steady loss. However, your should see that if one manages to increase virality even a bit, the initial loss will turn into exponentially increasing profits. In practice, though, achieving such virality is very hard. "
      ]
    },
    {
      "cell_type": "markdown",
      "metadata": {
        "id": "ylBLAbAgmKAG"
      },
      "source": [
        "####Solution (expand to show)"
      ]
    },
    {
      "cell_type": "code",
      "metadata": {
        "colab": {
          "base_uri": "https://localhost:8080/",
          "height": 597
        },
        "id": "qdKzTtvH451k",
        "outputId": "0e635b7f-1e06-40d6-ad57-8074447d06d6"
      },
      "source": [
        "#Define simulation parameters\n",
        "initialMarketingBudget=10000\n",
        "money=20000 \n",
        "pricePerUser=1\n",
        "virality=0.1\n",
        "churnProbability=0.1\n",
        "dailyRevenuePerPlayer=0.1\n",
        "employees=4\n",
        "monthlySalary=3500\n",
        "auxiliaryMultiplier=1.36\n",
        "overheadsMultiplier=1.5\n",
        "gamePrice=0\n",
        "\n",
        "#Compute and print monthly and daily burn\n",
        "monthlyBurn=employees*monthlySalary*auxiliaryMultiplier*overheadsMultiplier\n",
        "dailyBurn=monthlyBurn/21\n",
        "print(\"Monthly burn:\",monthlyBurn)\n",
        "print(\"Daily burn:\",dailyBurn)\n",
        "\n",
        "#Compute initial values: Buy some initial players\n",
        "players=initialMarketingBudget/pricePerUser\n",
        "money-=initialMarketingBudget\n",
        "money+=players*gamePrice  #if the game price >0, the initial players also bring some revenue\n",
        "\n",
        "#Lists for results\n",
        "playerCounts=[]\n",
        "moneyAmounts=[]\n",
        "\n",
        "#Simulate\n",
        "for i in range(100):\n",
        "    #Store results\n",
        "    moneyAmounts.append(money)\n",
        "    playerCounts.append(players)\n",
        "\n",
        "    #Now, we explicitly compute new and churned players\n",
        "    #and store them into variables, as we need them\n",
        "    #for the monetization calculation \n",
        "    newPlayers=virality*players \n",
        "    churnedPlayers=churnProbability*players\n",
        "\n",
        "    #Update monetization\n",
        "    money+=players*dailyRevenuePerPlayer\n",
        "    money+=gamePrice*newPlayers\n",
        "    money-=dailyBurn\n",
        "\n",
        "    #Update player count\n",
        "    players=players + newPlayers - churnedPlayers\n",
        "\n",
        "#plot players over time\n",
        "plt.plot(playerCounts)\n",
        "plt.xlabel(\"Days\")\n",
        "plt.ylabel(\"Players\")\n",
        "\n",
        "#plot money over time\n",
        "plt.figure()  #create new plot\n",
        "plt.plot(moneyAmounts)\n",
        "plt.xlabel(\"Days\")\n",
        "plt.ylabel(\"Money\")"
      ],
      "execution_count": null,
      "outputs": [
        {
          "output_type": "stream",
          "text": [
            "Monthly burn: 28560.0\n",
            "Daily burn: 1360.0\n"
          ],
          "name": "stdout"
        },
        {
          "output_type": "execute_result",
          "data": {
            "text/plain": [
              "Text(0, 0.5, 'Money')"
            ]
          },
          "metadata": {
            "tags": []
          },
          "execution_count": 21
        },
        {
          "output_type": "display_data",
          "data": {
            "image/png": "[encoded data removed]",
            "text/plain": [
              "<Figure size 432x288 with 1 Axes>"
            ]
          },
          "metadata": {
            "tags": [],
            "needs_background": "light"
          }
        },
        {
          "output_type": "display_data",
          "data": {
            "image/png": "[encoded data removed]",
            "text/plain": [
              "<Figure size 432x288 with 1 Axes>"
            ]
          },
          "metadata": {
            "tags": [],
            "needs_background": "light"
          }
        }
      ]
    },
    {
      "cell_type": "markdown",
      "metadata": {
        "id": "4gSf4b076M1u"
      },
      "source": [
        "###Exercise: Invest revenue in user acquisition\n",
        "\n",
        "Add a parameter that defines the percentage of revenue that is invested in user acquisition. You should see that this is the key to make exponentially growing profits even if the game is not viral, but if each player provides some revenue.\n",
        "\n",
        "This is basically what companies try to estimate when soft-launching games: Measure retention, virality, and average revenue per user on a small market to gain evidence of exponential growth potential and that the game or company is worth investing in, and even if the company will make some loss in the short term, it will be profitable in the long term.\n"
      ]
    },
    {
      "cell_type": "markdown",
      "metadata": {
        "id": "An1PEtGhmi-s"
      },
      "source": [
        "####Solution (expand to show)"
      ]
    },
    {
      "cell_type": "code",
      "metadata": {
        "colab": {
          "base_uri": "https://localhost:8080/",
          "height": 608
        },
        "id": "mYagVjwc7QOO",
        "outputId": "440fe4a6-3741-4209-d9cd-8fbbc395ab1e"
      },
      "source": [
        "#Define simulation parameters\n",
        "initialMarketingBudget=10000\n",
        "money=20000 \n",
        "pricePerUser=1\n",
        "virality=0.0\n",
        "churnProbability=0.05\n",
        "dailyRevenuePerPlayer=0.1\n",
        "employees=4\n",
        "monthlySalary=3500\n",
        "auxiliaryMultiplier=1.36\n",
        "overheadsMultiplier=1.5\n",
        "gamePrice=0\n",
        "userAcquisitionPercentage=60\n",
        "\n",
        "#Compute and print monthly and daily burn\n",
        "monthlyBurn=employees*monthlySalary*auxiliaryMultiplier*overheadsMultiplier\n",
        "dailyBurn=monthlyBurn/21\n",
        "print(\"Monthly burn:\",monthlyBurn)\n",
        "print(\"Daily burn:\",dailyBurn)\n",
        "\n",
        "#Compute initial values: Buy some initial players\n",
        "players=initialMarketingBudget/pricePerUser\n",
        "money-=initialMarketingBudget\n",
        "money+=players*gamePrice  #if the game price >0, the initial players also bring some revenue\n",
        "\n",
        "#Lists for results\n",
        "playerCounts=[]\n",
        "moneyAmounts=[]\n",
        "\n",
        "#Simulate\n",
        "for i in range(365):\n",
        "    #Store results\n",
        "    moneyAmounts.append(money)\n",
        "    playerCounts.append(players)\n",
        "\n",
        "    #Now, we explicitly compute new and churned players\n",
        "    #and store them into variables, as we need them\n",
        "    #for the monetization calculation \n",
        "    viralPlayers=virality*players \n",
        "    churnedPlayers=churnProbability*players\n",
        "\n",
        "    #Update monetization and user acquisition\n",
        "    revenue=players*dailyRevenuePerPlayer+gamePrice*viralPlayers\n",
        "    userAcquisitionBudget=revenue*userAcquisitionPercentage/100\n",
        "    money=money+revenue-dailyBurn-userAcquisitionBudget\n",
        "    acquiredPlayers=userAcquisitionBudget/pricePerUser\n",
        "\n",
        "\n",
        "    #Update player count\n",
        "    players=players + acquiredPlayers + viralPlayers - churnedPlayers\n",
        "\n",
        "#plot players over time\n",
        "plt.plot(playerCounts)\n",
        "plt.xlabel(\"Days\")\n",
        "plt.ylabel(\"Players\")\n",
        "\n",
        "#plot money over time\n",
        "plt.figure()  #create new plot\n",
        "plt.plot(moneyAmounts)\n",
        "plt.xlabel(\"Days\")\n",
        "plt.ylabel(\"Money\")"
      ],
      "execution_count": null,
      "outputs": [
        {
          "output_type": "stream",
          "text": [
            "Monthly burn: 28560.0\n",
            "Daily burn: 1360.0\n"
          ],
          "name": "stdout"
        },
        {
          "output_type": "execute_result",
          "data": {
            "text/plain": [
              "Text(0, 0.5, 'Money')"
            ]
          },
          "metadata": {
            "tags": []
          },
          "execution_count": 22
        },
        {
          "output_type": "display_data",
          "data": {
            "image/png": "[encoded data removed]",
            "text/plain": [
              "<Figure size 432x288 with 1 Axes>"
            ]
          },
          "metadata": {
            "tags": [],
            "needs_background": "light"
          }
        },
        {
          "output_type": "display_data",
          "data": {
            "image/png": "[encoded data removed]",
            "text/plain": [
              "<Figure size 432x288 with 1 Axes>"
            ]
          },
          "metadata": {
            "tags": [],
            "needs_background": "light"
          }
        }
      ]
    },
    {
      "cell_type": "code",
      "metadata": {
        "id": "ipmS6tYCS5Up"
      },
      "source": [
        ""
      ],
      "execution_count": null,
      "outputs": []
    },
    {
      "cell_type": "markdown",
      "metadata": {
        "id": "8c1XDVM6mXLU"
      },
      "source": [
        ""
      ]
    },
    {
      "cell_type": "markdown",
      "metadata": {
        "id": "GhNmiHA1nMJt"
      },
      "source": [
        "###Exercise: Simulate your own company and game\n",
        "\n",
        "Set up the simulation parameters so that they are realistic for a company that you might found with some fellow students. Can you find a plausible way to stay alive? Do you have to monetize through ads or in app purchases, or is the business viable with paid games? (Tip: minimizing burn rate is essential - for example, it might be good work with free software and no rented office space, at least initially.) \n",
        "\n",
        "Note that if your game only has a single \"remove ads\" purchase, you need to modify the simulation code a bit."
      ]
    }
  ]
}